{
 "cells": [
  {
   "cell_type": "markdown",
   "metadata": {},
   "source": [
    "<img align=\"right\" src=\"images/dans-small.png\"/>\n",
    "<img align=\"right\" src=\"images/tf-small.png\"/>\n",
    "<img align=\"right\" src=\"images/etcbc.png\"/>"
   ]
  },
  {
   "cell_type": "markdown",
   "metadata": {},
   "source": [
    "We make a link between the morphology in the\n",
    "[Openscriptures](http://openscriptures.org)\n",
    "and the linguistics in the [BHSA](https://github.com/ETCBC/bhsa).\n",
    "\n",
    "We proceed as follows:\n",
    "\n",
    "* extract the morphology from the files in\n",
    "  [openscriptures/morphhb/wlc](https://github.com/openscriptures/morphhb/tree/master/wlc)\n",
    "* link the words in the openscripture files to slots in the BHSA\n",
    "* compile the openscripture morphology data into a TF feature file."
   ]
  },
  {
   "cell_type": "code",
   "execution_count": 1,
   "metadata": {},
   "outputs": [],
   "source": [
    "import os\n",
    "from glob import glob\n",
    "from lxml import etree\n",
    "from itertools import zip_longest\n",
    "from unicodedata import normalize, category\n",
    "\n",
    "from tf.fabric import Fabric"
   ]
  },
  {
   "cell_type": "markdown",
   "metadata": {},
   "source": [
    "# Loading BHSA"
   ]
  },
  {
   "cell_type": "code",
   "execution_count": 102,
   "metadata": {},
   "outputs": [
    {
     "name": "stdout",
     "output_type": "stream",
     "text": [
      "This is Text-Fabric 3.1.1\n",
      "Api reference : https://github.com/Dans-labs/text-fabric/wiki/Api\n",
      "Tutorial      : https://github.com/Dans-labs/text-fabric/blob/master/docs/tutorial.ipynb\n",
      "Example data  : https://github.com/Dans-labs/text-fabric-data\n",
      "\n",
      "114 features found and 0 ignored\n",
      "  0.00s loading features ...\n",
      "   |     0.01s B book                 from /Users/dirk/github/etcbc/bhsa/tf/2017\n",
      "   |     0.20s B g_cons_utf8          from /Users/dirk/github/etcbc/bhsa/tf/2017\n",
      "   |     0.00s Feature overview: 108 for nodes; 5 for edges; 1 configs; 7 computed\n",
      "  5.55s All features loaded/computed - for details use loadLog()\n"
     ]
    }
   ],
   "source": [
    "REPO = os.path.expanduser('~/github/etcbc/bhsa')\n",
    "baseDir = '{}/tf'.format(REPO)\n",
    "tempDir = '{}/_temp'.format(REPO)\n",
    "VERSION = '2017'\n",
    "\n",
    "TF = Fabric(locations='{}/tf/{}'.format(REPO, VERSION), modules=[''])\n",
    "api = TF.load('''\n",
    "    book\n",
    "    g_cons_utf8\n",
    "''')\n",
    "api.makeAvailableIn(globals())\n"
   ]
  },
  {
   "cell_type": "code",
   "execution_count": 117,
   "metadata": {},
   "outputs": [
    {
     "name": "stdout",
     "output_type": "stream",
     "text": [
      "Amos\n",
      "Canticum\n",
      "Chronica_I\n",
      "Chronica_II\n",
      "Daniel\n",
      "Deuteronomium\n",
      "Ecclesiastes\n",
      "Esra\n",
      "Esther\n",
      "Exodus\n",
      "Ezechiel\n",
      "Genesis\n",
      "Habakuk\n",
      "Haggai\n",
      "Hosea\n",
      "Iob\n",
      "Jeremia\n",
      "Jesaia\n",
      "Joel\n",
      "Jona\n",
      "Josua\n",
      "Judices\n",
      "Leviticus\n",
      "Maleachi\n",
      "Micha\n",
      "Nahum\n",
      "Nehemia\n",
      "Numeri\n",
      "Obadia\n",
      "Proverbia\n",
      "Psalmi\n",
      "Reges_I\n",
      "Reges_II\n",
      "Ruth\n",
      "Sacharia\n",
      "Samuel_I\n",
      "Samuel_II\n",
      "Threni\n",
      "Zephania\n"
     ]
    }
   ],
   "source": [
    "bhsBooks = sorted(F.book.v(n) for n in F.otype.s('book'))\n",
    "print('\\n'.join(bhsBooks))"
   ]
  },
  {
   "cell_type": "markdown",
   "metadata": {},
   "source": [
    "# Reading open scriptures"
   ]
  },
  {
   "cell_type": "code",
   "execution_count": 118,
   "metadata": {},
   "outputs": [],
   "source": [
    "OS_BASE = os.path.expanduser('~/github/openscriptures/morphhb/wlc')\n",
    "os.chdir(OS_BASE)\n",
    "osmBookSet = set(fn[0:-4] for fn in glob('*.xml') if fn != 'VerseMap.xml')"
   ]
  },
  {
   "cell_type": "code",
   "execution_count": 119,
   "metadata": {},
   "outputs": [
    {
     "name": "stdout",
     "output_type": "stream",
     "text": [
      "1Chr\n",
      "1Kgs\n",
      "1Sam\n",
      "2Chr\n",
      "2Kgs\n",
      "2Sam\n",
      "Amos\n",
      "Dan\n",
      "Deut\n",
      "Eccl\n",
      "Esth\n",
      "Exod\n",
      "Ezek\n",
      "Ezra\n",
      "Gen\n",
      "Hab\n",
      "Hag\n",
      "Hos\n",
      "Isa\n",
      "Jer\n",
      "Job\n",
      "Joel\n",
      "Jonah\n",
      "Josh\n",
      "Judg\n",
      "Lam\n",
      "Lev\n",
      "Mal\n",
      "Mic\n",
      "Nah\n",
      "Neh\n",
      "Num\n",
      "Obad\n",
      "Prov\n",
      "Ps\n",
      "Ruth\n",
      "Song\n",
      "Zech\n",
      "Zeph\n"
     ]
    }
   ],
   "source": [
    "print('\\n'.join(sorted(osmBookSet)))"
   ]
  },
  {
   "cell_type": "code",
   "execution_count": 120,
   "metadata": {},
   "outputs": [],
   "source": [
    "osmBooks = '''\n",
    "Amos\n",
    "Song\n",
    "1Chr\n",
    "2Chr\n",
    "Dan\n",
    "Deut\n",
    "Eccl\n",
    "Ezra\n",
    "Esth\n",
    "Exod\n",
    "Ezek\n",
    "Gen\n",
    "Hab\n",
    "Hag\n",
    "Hos\n",
    "Job\n",
    "Jer\n",
    "Isa\n",
    "Joel\n",
    "Jonah\n",
    "Josh\n",
    "Judg\n",
    "Lev\n",
    "Mal\n",
    "Mic\n",
    "Nah\n",
    "Neh\n",
    "Num\n",
    "Obad\n",
    "Prov\n",
    "Ps\n",
    "1Kgs\n",
    "2Kgs\n",
    "Ruth\n",
    "Zech\n",
    "1Sam\n",
    "2Sam\n",
    "Lam\n",
    "Zeph\n",
    "'''.strip().split()"
   ]
  },
  {
   "cell_type": "code",
   "execution_count": 121,
   "metadata": {},
   "outputs": [],
   "source": [
    "osmBookFromBhs = {}\n",
    "bhsBookFromOsm = {}\n",
    "for (i, bhsBook) in enumerate(bhsBooks):\n",
    "    osmBook = osmBooks[i]\n",
    "    osmBookFromBhs[bhsBook] = osmBook\n",
    "    bhsBookFromOsm[osmBook] = bhsBook"
   ]
  },
  {
   "cell_type": "code",
   "execution_count": 122,
   "metadata": {},
   "outputs": [],
   "source": [
    "NS = '{http://www.bibletechnologies.net/2003/OSIS/namespace}'\n",
    "NFD = 'NFD'\n",
    "LO = 'Lo'\n",
    "\n",
    "finals = {\n",
    "    'ך':\\\n",
    "    'כ',\n",
    "    'ם':\\\n",
    "    'מ',\n",
    "    'ן':\\\n",
    "    'נ',\n",
    "    'ף':\\\n",
    "    'פ',\n",
    "    'ץ':\\\n",
    "    'צ',\n",
    "}\n",
    "\n",
    "finalsI = {v: k for (k,v) in finals.items()}\n",
    "\n",
    "# k\t05DA\tך\tletter final kaf\n",
    "# K\t05DB\tכ\tletter kaf\n",
    "# m\t05DD\tם\tletter final mem\n",
    "# M\t05DE\tמ\tletter mem\n",
    "# n\t05DF\tן\tletter final nun\n",
    "# N\t05E0\tנ\tletter nun\n",
    "# p\t05E3\tף\tletter final pe\n",
    "# P\t05E4\tפ\tletter pe\n",
    "# y\t05E5\tץ\tletter final tsadi\n",
    "# Y\t05E6\tצ\tletter tsadi\n",
    "\n",
    "\n",
    "def toCons(fw): return ''.join(c for c in normalize(NFD, fw) if category(c) == LO)\n",
    "def final(c): return finalsI.get(c, c)\n",
    "def finalCons(s): return s[0:-1]+final(s[-1])\n",
    "\n",
    "def readOsmBook(osmBook, osmWords, stats):\n",
    "    infile = '{}.xml'.format(osmBook)\n",
    "    parser = etree.XMLParser(remove_blank_text=True, ns_clean=True)\n",
    "    root = etree.parse(infile, parser).getroot()\n",
    "    osisTextNode = root[0]\n",
    "    divNode = osisTextNode[1]\n",
    "    chapterNodes = list(divNode)\n",
    "    print('reading {:<5} ({:<15}) {:>3} chapters'.format(osmBook, bhsBookFromOsm[osmBook], len(chapterNodes)))\n",
    "    for chapterNode in chapterNodes:\n",
    "        if chapterNode.tag != NS+'chapter': continue\n",
    "        for verseNode in list(chapterNode):\n",
    "            if verseNode.tag != NS+'verse': continue\n",
    "            for wordNode in list(verseNode):\n",
    "                if wordNode.tag != NS+'w': continue\n",
    "                lemma = wordNode.get('lemma', None)\n",
    "                morph = wordNode.get('morph', None)\n",
    "                text = wordNode.text\n",
    "                lemmas = lemma.split('/') if lemma != None else []\n",
    "                morphs = morph.split('/') if morph != None else []\n",
    "                texts = text.split('/') if text != None else []\n",
    "                for (lm, mph, tx) in zip_longest(lemmas, morphs, texts, fillvalue=''):\n",
    "                    txc = None if tx == None else toCons(tx)\n",
    "                    osmWords.append((tx, txc, mph, lm))\n",
    "                    if not mph:\n",
    "                        stats['noMorph'] += 1\n",
    "                    if not tx:\n",
    "                        stats['xMorph'] += 1"
   ]
  },
  {
   "cell_type": "code",
   "execution_count": 123,
   "metadata": {},
   "outputs": [
    {
     "name": "stdout",
     "output_type": "stream",
     "text": [
      "reading Gen   (Genesis        )  50 chapters\n",
      "reading Exod  (Exodus         )  40 chapters\n",
      "reading Lev   (Leviticus      )  27 chapters\n",
      "reading Num   (Numeri         )  36 chapters\n",
      "reading Deut  (Deuteronomium  )  34 chapters\n",
      "reading Josh  (Josua          )  24 chapters\n",
      "reading Judg  (Judices        )  21 chapters\n",
      "reading 1Sam  (Samuel_I       )  31 chapters\n",
      "reading 2Sam  (Samuel_II      )  24 chapters\n",
      "reading 1Kgs  (Reges_I        )  22 chapters\n",
      "reading 2Kgs  (Reges_II       )  25 chapters\n",
      "reading Isa   (Jesaia         )  66 chapters\n",
      "reading Jer   (Jeremia        )  52 chapters\n",
      "reading Ezek  (Ezechiel       )  48 chapters\n",
      "reading Hos   (Hosea          )  14 chapters\n",
      "reading Joel  (Joel           )   4 chapters\n",
      "reading Amos  (Amos           )   9 chapters\n",
      "reading Obad  (Obadia         )   1 chapters\n",
      "reading Jonah (Jona           )   4 chapters\n",
      "reading Mic   (Micha          )   7 chapters\n",
      "reading Nah   (Nahum          )   3 chapters\n",
      "reading Hab   (Habakuk        )   3 chapters\n",
      "reading Zeph  (Zephania       )   3 chapters\n",
      "reading Hag   (Haggai         )   2 chapters\n",
      "reading Zech  (Sacharia       )  14 chapters\n",
      "reading Mal   (Maleachi       )   3 chapters\n",
      "reading Ps    (Psalmi         ) 150 chapters\n",
      "reading Job   (Iob            )  42 chapters\n",
      "reading Prov  (Proverbia      )  31 chapters\n",
      "reading Ruth  (Ruth           )   4 chapters\n",
      "reading Song  (Canticum       )   8 chapters\n",
      "reading Eccl  (Ecclesiastes   )  12 chapters\n",
      "reading Lam   (Threni         )   5 chapters\n",
      "reading Esth  (Esther         )  10 chapters\n",
      "reading Dan   (Daniel         )  12 chapters\n",
      "reading Ezra  (Esra           )  10 chapters\n",
      "reading Neh   (Nehemia        )  13 chapters\n",
      "reading 1Chr  (Chronica_I     )  29 chapters\n",
      "reading 2Chr  (Chronica_II    )  36 chapters\n",
      "\n",
      "BHS words:       426584\n",
      "Collected words: 469448\n",
      "No morphology:    54875\n",
      "Mismatches:          20\n",
      "88 % of the words are morphologically annotated.\n",
      "\n"
     ]
    }
   ],
   "source": [
    "osmWords = []\n",
    "stats = dict(noMorph=0, xMorph=0)\n",
    "\n",
    "for bn in F.otype.s('book'):\n",
    "    bhsBook = T.sectionFromNode(bn, lang='la')[0]\n",
    "    osmBook = osmBookFromBhs[bhsBook]\n",
    "    readOsmBook(osmBook, osmWords, stats)\n",
    "\n",
    "print('''\n",
    "BHS words:       {:>6}\n",
    "Collected words: {:>6}\n",
    "No morphology:   {:>6}\n",
    "Mismatches:      {:>6}\n",
    "{} % of the words are morphologically annotated.\n",
    "'''.format(\n",
    "        F.otype.maxSlot,\n",
    "        len(osmWords),\n",
    "        stats['noMorph'], \n",
    "        stats['xMorph'], \n",
    "        round(100 * (len(osmWords) - stats['noMorph'] - stats['xMorph'])/len(osmWords)),\n",
    "))"
   ]
  },
  {
   "cell_type": "code",
   "execution_count": 124,
   "metadata": {},
   "outputs": [
    {
     "data": {
      "text/plain": [
       "[(0, ('בְּ', 'ב', 'HR', 'b')),\n",
       " (1, ('רֵאשִׁ֖ית', 'ראשית', 'Ncfsa', '7225')),\n",
       " (2, ('בָּרָ֣א', 'ברא', 'HVqp3ms', '1254 a')),\n",
       " (3, ('אֱלֹהִ֑ים', 'אלהים', 'HNcmpa', '430')),\n",
       " (4, ('אֵ֥ת', 'את', 'HTo', '853')),\n",
       " (5, ('הַ', 'ה', 'HTd', 'd')),\n",
       " (6, ('שָּׁמַ֖יִם', 'שמים', 'Ncmpa', '8064')),\n",
       " (7, ('וְ', 'ו', 'HC', 'c')),\n",
       " (8, ('אֵ֥ת', 'את', 'To', '853')),\n",
       " (9, ('הָ', 'ה', 'HTd', 'd')),\n",
       " (10, ('אָֽרֶץ', 'ארץ', 'Ncbsa', '776')),\n",
       " (11, ('וְ', 'ו', 'HC', 'c')),\n",
       " (12, ('הָ', 'ה', 'Td', 'd')),\n",
       " (13, ('אָ֗רֶץ', 'ארץ', 'Ncbsa', '776')),\n",
       " (14, ('הָיְתָ֥ה', 'היתה', 'HVqp3fs', '1961')),\n",
       " (15, ('תֹ֨הוּ֙', 'תהו', 'HNcmsa', '8414')),\n",
       " (16, ('וָ', 'ו', 'HC', 'c')),\n",
       " (17, ('בֹ֔הוּ', 'בהו', 'Ncmsa', '922')),\n",
       " (18, ('וְ', 'ו', 'HC', 'c')),\n",
       " (19, ('חֹ֖שֶׁךְ', 'חשך', 'Ncmsa', '2822')),\n",
       " (20, ('עַל', 'על', 'HR', '5921 a')),\n",
       " (21, ('פְּנֵ֣י', 'פני', 'HNcbpc', '6440')),\n",
       " (22, ('תְה֑וֹם', 'תהום', 'HNcbsa', '8415')),\n",
       " (23, ('וְ', 'ו', 'HC', 'c')),\n",
       " (24, ('ר֣וּחַ', 'רוח', 'Ncbsc', '7307')),\n",
       " (25, ('אֱלֹהִ֔ים', 'אלהים', 'HNcmpa', '430')),\n",
       " (26, ('מְרַחֶ֖פֶת', 'מרחפת', 'HVprfsa', '7363 b')),\n",
       " (27, ('עַל', 'על', 'HR', '5921 a')),\n",
       " (28, ('פְּנֵ֥י', 'פני', 'HNcbpc', '6440')),\n",
       " (29, ('הַ', 'ה', 'HTd', 'd')),\n",
       " (30, ('מָּֽיִם', 'מים', 'Ncmpa', '4325')),\n",
       " (31, ('וַ', 'ו', 'HC', 'c')),\n",
       " (32, ('יֹּ֥אמֶר', 'יאמר', 'Vqw3ms', '559')),\n",
       " (33, ('אֱלֹהִ֖ים', 'אלהים', 'HNcmpa', '430')),\n",
       " (34, ('יְהִ֣י', 'יהי', 'HVqj3ms', '1961')),\n",
       " (35, ('א֑וֹר', 'אור', 'HNcbsa', '216')),\n",
       " (36, ('וַֽ', 'ו', 'HC', 'c')),\n",
       " (37, ('יְהִי', 'יהי', 'Vqw3ms', '1961')),\n",
       " (38, ('אֽוֹר', 'אור', 'HNcbsa', '216')),\n",
       " (39, ('וַ', 'ו', 'HC', 'c')),\n",
       " (40, ('יַּ֧רְא', 'ירא', 'Vqw3ms', '7200')),\n",
       " (41, ('אֱלֹהִ֛ים', 'אלהים', 'HNcmpa', '430')),\n",
       " (42, ('אֶת', 'את', 'HTo', '853')),\n",
       " (43, ('הָ', 'ה', 'HTd', 'd')),\n",
       " (44, ('א֖וֹר', 'אור', 'Ncbsa', '216')),\n",
       " (45, ('כִּי', 'כי', 'HC', '3588 a')),\n",
       " (46, ('ט֑וֹב', 'טוב', '', '2896 a')),\n",
       " (47, ('וַ', 'ו', 'HC', 'c')),\n",
       " (48, ('יַּבְדֵּ֣ל', 'יבדל', 'Vhw3ms', '914')),\n",
       " (49, ('אֱלֹהִ֔ים', 'אלהים', 'HNcmpa', '430')),\n",
       " (50, ('בֵּ֥ין', 'בין', 'HR', '996')),\n",
       " (51, ('הָ', 'ה', 'HTd', 'd')),\n",
       " (52, ('א֖וֹר', 'אור', 'Ncbsa', '216')),\n",
       " (53, ('וּ', 'ו', 'HC', 'c')),\n",
       " (54, ('בֵ֥ין', 'בין', 'R', '996')),\n",
       " (55, ('הַ', 'ה', 'HTd', 'd')),\n",
       " (56, ('חֹֽשֶׁךְ', 'חשך', 'Ncmsa', '2822')),\n",
       " (57, ('וַ', 'ו', 'HC', 'c')),\n",
       " (58, ('יִּקְרָ֨א', 'יקרא', 'Vqw3ms', '7121')),\n",
       " (59, ('אֱלֹהִ֤ים', 'אלהים', 'HNcmpa', '430')),\n",
       " (60, ('לָ', 'ל', 'HRd', 'l')),\n",
       " (61, ('אוֹר֙', 'אור', 'Ncbsa', '216')),\n",
       " (62, ('י֔וֹם', 'יום', 'HNcmsa', '3117')),\n",
       " (63, ('וְ', 'ו', 'HC', 'c')),\n",
       " (64, ('לַ', 'ל', 'Rd', 'l')),\n",
       " (65, ('חֹ֖שֶׁךְ', 'חשך', 'Ncmsa', '2822')),\n",
       " (66, ('קָ֣רָא', 'קרא', 'HVqp3ms', '7121')),\n",
       " (67, ('לָ֑יְלָה', 'לילה', 'HNcmsa', '3915')),\n",
       " (68, ('וַֽ', 'ו', 'HC', 'c')),\n",
       " (69, ('יְהִי', 'יהי', 'Vqw3ms', '1961')),\n",
       " (70, ('עֶ֥רֶב', 'ערב', 'HNcmsa', '6153')),\n",
       " (71, ('וַֽ', 'ו', 'HC', 'c')),\n",
       " (72, ('יְהִי', 'יהי', 'Vqw3ms', '1961')),\n",
       " (73, ('בֹ֖קֶר', 'בקר', 'HNcmsa', '1242')),\n",
       " (74, ('י֥וֹם', 'יום', 'HNcmsa', '3117')),\n",
       " (75, ('אֶחָֽד', 'אחד', 'HAcmsa', '259')),\n",
       " (76, ('וַ', 'ו', 'HC', 'c')),\n",
       " (77, ('יֹּ֣אמֶר', 'יאמר', 'Vqw3ms', '559')),\n",
       " (78, ('אֱלֹהִ֔ים', 'אלהים', 'HNcmpa', '430')),\n",
       " (79, ('יְהִ֥י', 'יהי', 'HVqj3ms', '1961')),\n",
       " (80, ('רָקִ֖יעַ', 'רקיע', 'HNcmsa', '7549')),\n",
       " (81, ('בְּ', 'ב', 'HR', 'b')),\n",
       " (82, ('ת֣וֹךְ', 'תוך', 'Ncmsc', '8432')),\n",
       " (83, ('הַ', 'ה', 'HTd', 'd')),\n",
       " (84, ('מָּ֑יִם', 'מים', 'Ncmpa', '4325')),\n",
       " (85, ('וִ', 'ו', 'HC', 'c')),\n",
       " (86, ('יהִ֣י', 'יהי', 'Vqi3ms', '1961')),\n",
       " (87, ('מַבְדִּ֔יל', 'מבדיל', 'HVhrmsa', '914')),\n",
       " (88, ('בֵּ֥ין', 'בין', 'HR', '996')),\n",
       " (89, ('מַ֖יִם', 'מים', 'HNcmpa', '4325')),\n",
       " (90, ('לָ', 'ל', 'HR', 'l')),\n",
       " (91, ('מָֽיִם', 'מים', 'Ncmpa', '4325')),\n",
       " (92, ('וַ', 'ו', 'HC', 'c')),\n",
       " (93, ('יַּ֣עַשׂ', 'יעש', 'Vqw3ms', '6213 a')),\n",
       " (94, ('אֱלֹהִים֮', 'אלהים', 'HNcmpa', '430')),\n",
       " (95, ('אֶת', 'את', 'HTo', '853')),\n",
       " (96, ('הָ', 'ה', 'HTd', 'd')),\n",
       " (97, ('רָקִיעַ֒', 'רקיע', 'Ncmsa', '7549')),\n",
       " (98, ('וַ', 'ו', 'HC', 'c')),\n",
       " (99, ('יַּבְדֵּ֗ל', 'יבדל', 'Vhw3ms', '914'))]"
      ]
     },
     "execution_count": 124,
     "metadata": {},
     "output_type": "execute_result"
    }
   ],
   "source": [
    "list(enumerate(osmWords[0:100]))"
   ]
  },
  {
   "cell_type": "markdown",
   "metadata": {},
   "source": [
    "Why are there 40,000 word more in OSM than in BHSA?\n",
    "Let's explore."
   ]
  },
  {
   "cell_type": "code",
   "execution_count": 14,
   "metadata": {},
   "outputs": [
    {
     "name": "stdout",
     "output_type": "stream",
     "text": [
      "Mismatch at 61: bhs=[] osm=[אור]\n"
     ]
    }
   ],
   "source": [
    "for (i, w) in enumerate(F.otype.s('word')):\n",
    "    bhs = toCons(F.g_cons_utf8.v(w))\n",
    "    osm = toCons(osmWords[i][0])\n",
    "    if bhs != osm:\n",
    "        print('Mismatch at {}: bhs=[{}] osm=[{}]'.format(i, bhs, osm))\n",
    "        break"
   ]
  },
  {
   "cell_type": "code",
   "execution_count": 15,
   "metadata": {},
   "outputs": [
    {
     "name": "stdout",
     "output_type": "stream",
     "text": [
      "61 ל\n",
      "62 \n",
      "63 אור\n",
      "64 יום\n"
     ]
    }
   ],
   "source": [
    "for i in range(61,65):\n",
    "    print(i, F.g_cons_utf8.v(i))"
   ]
  },
  {
   "cell_type": "markdown",
   "metadata": {},
   "source": [
    "Aha, the BHSA has encoded an empty article here, because the pointing of surrounding letters signals an article.\n",
    "So let's ignore the inserted empty articles of the BHSA."
   ]
  },
  {
   "cell_type": "code",
   "execution_count": 16,
   "metadata": {},
   "outputs": [
    {
     "name": "stdout",
     "output_type": "stream",
     "text": [
      "Mismatch at BHS-194 OS-187:\n",
      "bhs=[מינו]\n",
      "os=[מינ]\n"
     ]
    }
   ],
   "source": [
    "j = -1\n",
    "for w in F.otype.s('word'):\n",
    "    bhs = toCons(F.g_cons_utf8.v(w))\n",
    "    if bhs == '': continue\n",
    "    j += 1\n",
    "    osm = osmWords[j][1]\n",
    "    if bhs != osm:\n",
    "        print('''Mismatch at BHS-{} OS-{}:\\nbhs=[{}]\\nos=[{}]'''.format(w, j, bhs, osm))\n",
    "        break"
   ]
  },
  {
   "cell_type": "code",
   "execution_count": 17,
   "metadata": {},
   "outputs": [
    {
     "name": "stdout",
     "output_type": "stream",
     "text": [
      "192 פרי פרי\n",
      "193 ל ל\n",
      "194 מינו מינ\n",
      "195 אשר ו\n"
     ]
    }
   ],
   "source": [
    "for w in range(192,196):\n",
    "    print(w, toCons(F.g_cons_utf8.v(w)), osmWords[w-7][1])"
   ]
  },
  {
   "cell_type": "markdown",
   "metadata": {},
   "source": [
    "Aha, the BHS does not split a word here, while the OSM does, or rather: the OSM specifies a morpheme boundary here.\n",
    "Maybe we can remedy this by looking at the pronominal suffix in the BHS.\n",
    "\n",
    "It turns out that we also have to account for the univalent final, e.g. in word 1096:"
   ]
  },
  {
   "cell_type": "code",
   "execution_count": 63,
   "metadata": {},
   "outputs": [],
   "source": [
    "w = 1096"
   ]
  },
  {
   "cell_type": "code",
   "execution_count": 64,
   "metadata": {},
   "outputs": [
    {
     "data": {
      "text/plain": [
       "'תחתנה'"
      ]
     },
     "execution_count": 64,
     "metadata": {},
     "output_type": "execute_result"
    }
   ],
   "source": [
    "F.g_cons_utf8.v(w)"
   ]
  },
  {
   "cell_type": "code",
   "execution_count": 65,
   "metadata": {},
   "outputs": [
    {
     "data": {
      "text/plain": [
       "'ֶנּ'"
      ]
     },
     "execution_count": 65,
     "metadata": {},
     "output_type": "execute_result"
    }
   ],
   "source": [
    "F.g_uvf_utf8.v(w)"
   ]
  },
  {
   "cell_type": "code",
   "execution_count": 66,
   "metadata": {},
   "outputs": [
    {
     "data": {
      "text/plain": [
       "'ָה'"
      ]
     },
     "execution_count": 66,
     "metadata": {},
     "output_type": "execute_result"
    }
   ],
   "source": [
    "F.g_prs_utf8.v(w)"
   ]
  },
  {
   "cell_type": "markdown",
   "metadata": {},
   "source": [
    "But in word 1144 we should not take the uvf with the prs:"
   ]
  },
  {
   "cell_type": "code",
   "execution_count": 68,
   "metadata": {},
   "outputs": [],
   "source": [
    "w = 1144"
   ]
  },
  {
   "cell_type": "code",
   "execution_count": 69,
   "metadata": {},
   "outputs": [
    {
     "data": {
      "text/plain": [
       "'אביו'"
      ]
     },
     "execution_count": 69,
     "metadata": {},
     "output_type": "execute_result"
    }
   ],
   "source": [
    "F.g_cons_utf8.v(w)"
   ]
  },
  {
   "cell_type": "code",
   "execution_count": 70,
   "metadata": {},
   "outputs": [
    {
     "data": {
      "text/plain": [
       "'ִי'"
      ]
     },
     "execution_count": 70,
     "metadata": {},
     "output_type": "execute_result"
    }
   ],
   "source": [
    "F.g_uvf_utf8.v(w)"
   ]
  },
  {
   "cell_type": "code",
   "execution_count": 71,
   "metadata": {},
   "outputs": [
    {
     "data": {
      "text/plain": [
       "'ו'"
      ]
     },
     "execution_count": 71,
     "metadata": {},
     "output_type": "execute_result"
    }
   ],
   "source": [
    "F.g_prs_utf8.v(w)"
   ]
  },
  {
   "cell_type": "markdown",
   "metadata": {},
   "source": [
    "We will try both ways."
   ]
  },
  {
   "cell_type": "markdown",
   "metadata": {},
   "source": [
    "We will encounter coding errors in the BHSA. We define a list of corrections, as a work-around.\n",
    "\n",
    "We specify slots where we should override the (uvf+)prs with a given value."
   ]
  },
  {
   "cell_type": "code",
   "execution_count": 88,
   "metadata": {},
   "outputs": [],
   "source": [
    "bhsCodingErrorsPrs = {\n",
    "    988: 'נו',\n",
    "    993: 'נו',\n",
    "    1125: 'י',\n",
    "    1225: 'נו',\n",
    "}"
   ]
  },
  {
   "cell_type": "markdown",
   "metadata": {},
   "source": [
    "There seem to be OSM errors as well.\n",
    "\n",
    "We specify word indexes where joins or splits should happen.\n",
    "Positive number: join with so many subsequent words."
   ]
  },
  {
   "cell_type": "code",
   "execution_count": 96,
   "metadata": {},
   "outputs": [],
   "source": [
    "osmCodingErrors = {\n",
    "    1277: 1,\n",
    "    1288: 1,\n",
    "}"
   ]
  },
  {
   "cell_type": "code",
   "execution_count": 97,
   "metadata": {},
   "outputs": [
    {
     "name": "stdout",
     "output_type": "stream",
     "text": [
      "Mismatch at BHS-1249 OS-1298:\n",
      "bhs=[ממנ]\n",
      "os=[ממ]\n"
     ]
    }
   ],
   "source": [
    "j = -1\n",
    "bhsPrs = {}\n",
    "for w in F.otype.s('word'):\n",
    "    bhs = toCons(F.g_cons_utf8.v(w))\n",
    "    if bhs == '': continue\n",
    "    j += 1\n",
    "    osm = osmWords[j][1]\n",
    "    gobble = osmCodingErrors.get(j, 0)\n",
    "    if gobble:\n",
    "        for n in range(gobble):\n",
    "            j += 1\n",
    "            osm += osmWords[j][1]\n",
    "    cprs = bhsCodingErrorsPrs.get(w, None)\n",
    "    if cprs == None:\n",
    "        uvf = F.g_uvf_utf8.v(w)\n",
    "        prs = F.g_prs_utf8.v(w)\n",
    "        if prs:\n",
    "            cprs = toCons(prs.strip())\n",
    "            cuprs = toCons(uvf.strip()+prs.strip())\n",
    "    bhsu = bhs\n",
    "    if cprs:\n",
    "        fcprs = finalCons(cprs)\n",
    "        fucprs = finalCons(cuprs)\n",
    "        if bhs.endswith(cuprs) or bhs.endswith(fucprs):\n",
    "            bhsu = bhs[0:len(bhs)-len(cuprs)]\n",
    "        if bhs.endswith(cprs) or bhs.endswith(fcprs):\n",
    "            bhs = bhs[0:len(bhs)-len(cprs)]\n",
    "\n",
    "    if osm not in {bhs, bhsu}:\n",
    "        print('''Mismatch at BHS-{} OS-{}:\\nbhs=[{}]\\nos=[{}]'''.format(w, j, bhs, osm))\n",
    "        break\n",
    "    if cprs:\n",
    "        j += 1\n",
    "        osm = osmWords[j][1]\n",
    "        if osm not in {fcprs, fucprs}:\n",
    "            print('''Mismatch in prs of BHS-{} OS-{}:\\nbhs=[{}]\\nos=[{}]'''.format(w, j, fcprs, osm))\n",
    "            break"
   ]
  },
  {
   "cell_type": "code",
   "execution_count": 111,
   "metadata": {},
   "outputs": [],
   "source": [
    "def showCase(w, j, ln):\n",
    "    print(T.sectionFromNode(w))\n",
    "    print('BHS')\n",
    "    for n in range(w, w + ln):\n",
    "        print('word  {} = [{}]'.format(n, toCons(F.g_cons_utf8.v(n))))\n",
    "    print('OSM')\n",
    "    for n in range(j, j + ln):\n",
    "        print('morph {} = [{}]'.format(n, osmWords[n][1]))"
   ]
  },
  {
   "cell_type": "code",
   "execution_count": 98,
   "metadata": {},
   "outputs": [
    {
     "name": "stdout",
     "output_type": "stream",
     "text": [
      "('Genesis', 3, 5)\n",
      "BHS\n",
      "word  1249 = [ממנו]\n",
      "prs   1249 = [ו]\n",
      "word  1250 = [ו]\n",
      "word  1251 = [נפקחו]\n",
      "word  1252 = [עיניכם]\n",
      "prs   1252 = [כם]\n",
      "word  1253 = [ו]\n",
      "OSM\n",
      "morph 1298 = [ממ]\n",
      "morph 1299 = [נו]\n",
      "morph 1300 = [ו]\n",
      "morph 1301 = [נפקחו]\n",
      "morph 1302 = [עיני]\n"
     ]
    }
   ],
   "source": [
    "showCase(1249, 1298, 5)"
   ]
  },
  {
   "cell_type": "markdown",
   "metadata": {},
   "source": [
    "# Too many cases\n",
    "So far, it is not going well. We encounter too many instances of cases where our alignment fails.\n",
    "We have to develop an other way of aligning the BHS words with the OSM morphemes.\n",
    "\n",
    "For each BHS word, we grab OSM morphemes until all consonants in the BHS word have been matched.\n",
    "\n",
    "The exceptions mean this:\n",
    "\n",
    "If `w: n` is in the dictionary of exceptions, it means that slot (word) `w` in the BHSA is different from its counterpart in the OSM.\n",
    "\n",
    "If `n > 0`, that many OSM words will be gobbled to align with slot `w`.\n",
    "\n",
    "If `n < 0`, that many slots from `w` will be gobbled to match the current OSM morpheme."
   ]
  },
  {
   "cell_type": "code",
   "execution_count": 228,
   "metadata": {},
   "outputs": [],
   "source": [
    "exceptions = {\n",
    "    58571: 1,\n",
    "    87007: 2,\n",
    "    97044: 1,\n",
    "    97049: 1,\n",
    "    139052: 1,\n",
    "    166914: 1,\n",
    "    166915: 1,\n",
    "    199373: 1,\n",
    "    199374: 1,\n",
    "    199375: 2,\n",
    "    207185: 1,\n",
    "    207186: 1,\n",
    "    207187: 2,\n",
    "    215253: 1,\n",
    "    224043: 1,\n",
    "    224044: 1,\n",
    "    224045: 2,\n",
    "    227601: 1,\n",
    "    238174: 1,\n",
    "    238175: 1,\n",
    "    243336: 1,\n",
    "    243337: 1,\n",
    "    250007: 1,\n",
    "    250008: 1,\n",
    "    256643: 1,\n",
    "    266189: 1,\n",
    "    287360: 1,\n",
    "    287360: 2,\n",
    "    309061: 1,\n",
    "    309062: 1,\n",
    "    324527: 1,\n",
    "    324528: 1,\n",
    "    337702: 1,\n",
    "    337703: 1,\n",
    "    345559: 1,\n",
    "    345560: 2,\n",
    "    345572: 1,\n",
    "    345573: 2,\n",
    "    351280: 1,\n",
    "    351878: 1,\n",
    "    351879: 1,\n",
    "    376865: 1,\n",
    "    376866: 2,\n",
    "    376867: 2,\n",
    "    383405: 2,\n",
    "    384049: 1,\n",
    "    384050: 1,\n",
    "    384052: 2,\n",
    "    405102: -2,\n",
    "    426506: 1,\n",
    "    426507: 1,\n",
    "}"
   ]
  },
  {
   "cell_type": "code",
   "execution_count": 231,
   "metadata": {},
   "outputs": [
    {
     "name": "stdout",
     "output_type": "stream",
     "text": [
      "Succeeded in aligning BHS with OSM\n",
      "426584 BHS words matched against 469448 OSM morphemes with 50 known exceptions\n"
     ]
    }
   ],
   "source": [
    "j = -1\n",
    "osmIndex = {}\n",
    "u = None\n",
    "remainingErrors = False\n",
    "for w in F.otype.s('word'):\n",
    "    if u != None and w <= u: continue\n",
    "    bhs = toCons(F.g_cons_utf8.v(w))\n",
    "    if bhs == '':\n",
    "        osmIndex[w] = None\n",
    "        continue\n",
    "    j += 1\n",
    "    startJ = j\n",
    "    startW = w\n",
    "    osm = osmWords[j][1]\n",
    "\n",
    "    maxGobble = exceptions.get(w, None)\n",
    "    gobble = 1\n",
    "    while len(osm) < len(bhs) or(maxGobble != None and maxGobble > 0):\n",
    "        if maxGobble != None and gobble >= maxGobble: break\n",
    "        j += 1\n",
    "        osm += osmWords[j][1]\n",
    "        gobble += 1\n",
    "    u = w\n",
    "    gobble = 1\n",
    "    while len(osm) > len(bhs) or (maxGobble != None and maxGobble < 0):\n",
    "        if maxGobble != None and gobble >= -maxGobble: break\n",
    "        u += 1\n",
    "        bhs += toCons(F.g_cons_utf8.v(u))\n",
    "        gobble += 1\n",
    "    if maxGobble == None and finalCons(bhs) != finalCons(osm):\n",
    "        print('''Mismatch in {} at BHS-{} OS-{}->{}:\\nbhs=[{}]\\nos=[{}]'''.format(\n",
    "            '{} {}:{}'.format(*T.sectionFromNode(w)),\n",
    "            w, startJ, j, bhs, osm,\n",
    "        ))\n",
    "        showCase(w, startJ, j - startJ + 10)\n",
    "        remainingErrors = True\n",
    "        break\n",
    "    for k in range(startW, u + 1):\n",
    "        osmIndex[k] = (startJ, j)\n",
    "        \n",
    "if not remainingErrors:\n",
    "    print('Succeeded in aligning BHS with OSM')\n",
    "    print('{} BHS words matched against {} OSM morphemes with {} known exceptions'.format(\n",
    "        len(osmIndex), len(osmWords), len(exceptions),\n",
    "    ))\n"
   ]
  },
  {
   "cell_type": "code",
   "execution_count": 112,
   "metadata": {},
   "outputs": [
    {
     "name": "stdout",
     "output_type": "stream",
     "text": [
      "('Genesis', 24, 65)\n",
      "BHS\n",
      "word  12369 = [ה]\n",
      "word  12370 = [לזה]\n",
      "word  12371 = [ה]\n",
      "word  12372 = [הלך]\n",
      "word  12373 = [ב]\n",
      "OSM\n",
      "morph 13485 = [הלזה]\n",
      "morph 13486 = [ה]\n",
      "morph 13487 = [הלך]\n",
      "morph 13488 = [ב]\n",
      "morph 13489 = [שדה]\n"
     ]
    }
   ],
   "source": [
    "showCase(12369, 13485, 5)"
   ]
  },
  {
   "cell_type": "code",
   "execution_count": 116,
   "metadata": {},
   "outputs": [
    {
     "data": {
      "text/plain": [
       "[('אֶפְרַ֔יִם', 'אפרים', 'Np', '669'),\n",
       " ('בְּנֵ֖י', 'בני', 'HNcmpc', '1121 a'),\n",
       " ('שִׁלֵּשִׁ֑ים', 'שלשים', 'HNcmpa', '8029'),\n",
       " ('גַּ֗ם', 'גם', 'HTa', '1571'),\n",
       " ('בְּנֵ֤י', 'בני', 'HNcmpc', '1121 a'),\n",
       " ('מָכִיר֙', 'מכיר', 'HNp', '4353'),\n",
       " ('בֶּן', 'בן', 'HNcmsc', '1121 a'),\n",
       " ('מְנַשֶּׁ֔ה', 'מנשה', 'HNp', '4519'),\n",
       " ('יֻלְּד֖וּ', 'ילדו', 'HVPp3cp', '3205'),\n",
       " ('עַל', 'על', 'HR', '5921 a'),\n",
       " ('בִּרְכֵּ֥י', 'ברכי', 'HNcfdc', '1290'),\n",
       " ('יוֹסֵֽף', 'יוסף', 'HNp', '3130'),\n",
       " ('וַ', 'ו', 'HC', 'c'),\n",
       " ('יֹּ֤אמֶר', 'יאמר', 'Vqw3ms', '559'),\n",
       " ('יוֹסֵף֙', 'יוסף', 'HNp', '3130'),\n",
       " ('אֶל', 'אל', 'HR', '413'),\n",
       " ('אֶחָ֔י', 'אחי', '', '251'),\n",
       " ('ו', 'ו', '', ''),\n",
       " ('אָנֹכִ֖י', 'אנכי', 'HPp1cs', '595'),\n",
       " ('מֵ֑ת', 'מת', 'HVqrmsa', '4191'),\n",
       " ('וֵֽ', 'ו', 'HC', 'c'),\n",
       " ('אלֹהִ֞ים', 'אלהים', 'Ncmpa', '430'),\n",
       " ('פָּקֹ֧ד', 'פקד', 'HVqa', '6485 a'),\n",
       " ('יִפְקֹ֣ד', 'יפקד', 'HVqi3ms', '6485 a'),\n",
       " ('אֶתְ', 'את', 'HTo', '853'),\n",
       " ('כֶ֗ם', 'כם', 'Sp2mp', ''),\n",
       " ('וְ', 'ו', 'HC', 'c'),\n",
       " ('הֶעֱלָ֤ה', 'העלה', 'Vhq3ms', '5927'),\n",
       " ('אֶתְ', 'את', 'HTo', '853'),\n",
       " ('כֶם֙', 'כם', 'Sp2mp', ''),\n",
       " ('מִן', 'מן', 'HR', '4480 a'),\n",
       " ('הָ', 'ה', 'HTd', 'd'),\n",
       " ('אָ֣רֶץ', 'ארץ', 'Ncbsa', '776'),\n",
       " ('הַ', 'ה', 'HTd', 'd'),\n",
       " ('זֹּ֔את', 'זאת', 'Pdxfs', '2063'),\n",
       " ('אֶל', 'אל', 'HR', '413'),\n",
       " ('הָ', 'ה', 'HTd', 'd'),\n",
       " ('אָ֕רֶץ', 'ארץ', 'Ncbsa', '776'),\n",
       " ('אֲשֶׁ֥ר', 'אשר', 'HTr', '834 a'),\n",
       " ('נִשְׁבַּ֛ע', 'נשבע', 'HVNp3ms', '7650'),\n",
       " ('לְ', 'ל', 'HR', 'l'),\n",
       " ('אַבְרָהָ֥ם', 'אברהם', 'Np', '85'),\n",
       " ('לְ', 'ל', 'HR', 'l'),\n",
       " ('יִצְחָ֖ק', 'יצחק', 'Np', '3327'),\n",
       " ('וּֽ', 'ו', 'HC', 'c'),\n",
       " ('לְ', 'ל', 'R', 'l'),\n",
       " ('יַעֲקֹֽב', 'יעקב', 'Np', '3290'),\n",
       " ('וַ', 'ו', 'HC', 'c'),\n",
       " ('יַּשְׁבַּ֣ע', 'ישבע', 'Vhw3ms', '7650'),\n",
       " ('יוֹסֵ֔ף', 'יוסף', 'HNp', '3130'),\n",
       " ('אֶת', 'את', 'HTo', '853'),\n",
       " ('בְּנֵ֥י', 'בני', 'HNcmpc', '1121 a'),\n",
       " ('יִשְׂרָאֵ֖ל', 'ישראל', 'HNp', '3478'),\n",
       " ('לֵ', 'ל', 'HR', 'l'),\n",
       " ('אמֹ֑ר', 'אמר', 'Vqc', '559'),\n",
       " ('פָּקֹ֨ד', 'פקד', 'HVqa', '6485 a'),\n",
       " ('יִפְקֹ֤ד', 'יפקד', '', '6485 a'),\n",
       " ('אֱלֹהִים֙', 'אלהים', 'HNcmpa', '430'),\n",
       " ('אֶתְ', 'את', 'HTo', '853'),\n",
       " ('כֶ֔ם', 'כם', 'Sp2mp', ''),\n",
       " ('וְ', 'ו', '', 'c'),\n",
       " ('הַעֲלִתֶ֥ם', 'העלתם', '', '5927'),\n",
       " ('אֶת', 'את', 'HTo', '853'),\n",
       " ('עַצְמֹתַ֖', 'עצמת', 'HNcfpc', '6106'),\n",
       " ('י', 'י', 'Sp1cs', ''),\n",
       " ('מִ', 'מ', 'HR', 'm'),\n",
       " ('זֶּֽה', 'זה', 'Pdxms', '2088'),\n",
       " ('וַ', 'ו', 'HC', 'c'),\n",
       " ('יָּ֣מָת', 'ימת', 'Vqw3ms', '4191'),\n",
       " ('יוֹסֵ֔ף', 'יוסף', 'HNp', '3130'),\n",
       " ('בֶּן', 'בן', 'HNcmsc', '1121 a'),\n",
       " ('מֵאָ֥ה', 'מאה', 'HAcbsa', '3967'),\n",
       " ('וָ', 'ו', 'HC', 'c'),\n",
       " ('עֶ֖שֶׂר', 'עשר', 'Acfsa', '6235'),\n",
       " ('שָׁנִ֑ים', 'שנים', 'HNcfpa', '8141'),\n",
       " ('וַ', 'ו', 'HC', 'c'),\n",
       " ('יַּחַנְט֣וּ', 'יחנטו', 'Vqw3mp', '2590 a'),\n",
       " ('אֹת֔', 'את', 'HTo', '853'),\n",
       " ('וֹ', 'ו', 'Sp3ms', ''),\n",
       " ('וַ', 'ו', 'HC', 'c'),\n",
       " ('יִּ֥ישֶׂם', 'יישם', 'Vqw3ms', '3455'),\n",
       " ('בָּ', 'ב', 'HRd', 'b'),\n",
       " ('אָר֖וֹן', 'ארון', 'Ncbsa', '727'),\n",
       " ('בְּ', 'ב', 'HR', 'b'),\n",
       " ('מִצְרָֽיִם', 'מצרים', 'Np', '4714'),\n",
       " ('וַ', 'ו', 'HC', 'c'),\n",
       " ('יְהִ֣י', 'יהי', 'Vqw3ms', '1961'),\n",
       " ('בִּ', 'ב', 'HR', 'b'),\n",
       " ('שְׁלֹשִׁ֣ים', 'שלשים', 'Acbpa', '7970'),\n",
       " ('שָׁנָ֗ה', 'שנה', 'HNcfsa', '8141'),\n",
       " ('בָּֽ', 'ב', '', 'b'),\n",
       " ('רְבִיעִי֙', 'רביעי', '', '7243'),\n",
       " ('בַּ', 'ב', 'HRd', 'b'),\n",
       " ('חֲמִשָּׁ֣ה', 'חמשה', 'Acmsa', '2568'),\n",
       " ('לַ', 'ל', 'HRd', 'l'),\n",
       " ('חֹ֔דֶשׁ', 'חדש', 'Ncmsa', '2320'),\n",
       " ('וַ', 'ו', 'HC', 'c'),\n",
       " ('אֲנִ֥י', 'אני', 'Pp1cs', '589'),\n",
       " ('בְ', 'ב', 'HR', 'b'),\n",
       " ('תֽוֹךְ', 'תוך', 'Ncmsc', '8432')]"
      ]
     },
     "execution_count": 116,
     "metadata": {},
     "output_type": "execute_result"
    }
   ],
   "source": [
    "osmWords[32000:32100]"
   ]
  },
  {
   "cell_type": "code",
   "execution_count": null,
   "metadata": {},
   "outputs": [],
   "source": []
  }
 ],
 "metadata": {
  "kernelspec": {
   "display_name": "Python 3",
   "language": "python",
   "name": "python3"
  },
  "language_info": {
   "codemirror_mode": {
    "name": "ipython",
    "version": 3
   },
   "file_extension": ".py",
   "mimetype": "text/x-python",
   "name": "python",
   "nbconvert_exporter": "python",
   "pygments_lexer": "ipython3",
   "version": "3.6.2"
  }
 },
 "nbformat": 4,
 "nbformat_minor": 2
}
