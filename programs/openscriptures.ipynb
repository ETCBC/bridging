{
 "cells": [
  {
   "cell_type": "markdown",
   "metadata": {},
   "source": [
    "<img align=\"right\" src=\"images/dans-small.png\"/>\n",
    "<img align=\"right\" src=\"images/tf-small.png\"/>\n",
    "<img align=\"right\" src=\"images/etcbc.png\"/>"
   ]
  },
  {
   "cell_type": "markdown",
   "metadata": {},
   "source": [
    "We make a link between the morphology in the\n",
    "[Openscriptures](http://openscriptures.org)\n",
    "and the linguistics in the [BHSA](https://github.com/ETCBC/bhsa).\n",
    "\n",
    "We proceed as follows:\n",
    "\n",
    "* extract the morphology from the files in\n",
    "  [openscriptures/morphhb/wlc](https://github.com/openscriptures/morphhb/tree/master/wlc)\n",
    "* link the words in the openscripture files to slots in the BHSA\n",
    "* compile the openscripture morphology data into a TF feature file."
   ]
  },
  {
   "cell_type": "code",
   "execution_count": 12,
   "metadata": {},
   "outputs": [],
   "source": [
    "import os\n",
    "from glob import glob\n",
    "from lxml import etree\n",
    "\n",
    "from tf.fabric import Fabric"
   ]
  },
  {
   "cell_type": "markdown",
   "metadata": {},
   "source": [
    "# Loading BHSA"
   ]
  },
  {
   "cell_type": "code",
   "execution_count": 6,
   "metadata": {},
   "outputs": [
    {
     "name": "stdout",
     "output_type": "stream",
     "text": [
      "This is Text-Fabric 3.1.1\n",
      "Api reference : https://github.com/Dans-labs/text-fabric/wiki/Api\n",
      "Tutorial      : https://github.com/Dans-labs/text-fabric/blob/master/docs/tutorial.ipynb\n",
      "Example data  : https://github.com/Dans-labs/text-fabric-data\n",
      "\n",
      "114 features found and 0 ignored\n",
      "  0.00s loading features ...\n",
      "   |     0.01s B book                 from /Users/dirk/github/etcbc/bhsa/tf/2017\n",
      "   |     0.00s Feature overview: 108 for nodes; 5 for edges; 1 configs; 7 computed\n",
      "  5.04s All features loaded/computed - for details use loadLog()\n",
      "['Genesis', 'Exodus', 'Leviticus', 'Numeri', 'Deuteronomium', 'Josua', 'Judices', 'Samuel_I', 'Samuel_II', 'Reges_I', 'Reges_II', 'Jesaia', 'Jeremia', 'Ezechiel', 'Hosea', 'Joel', 'Amos', 'Obadia', 'Jona', 'Micha', 'Nahum', 'Habakuk', 'Zephania', 'Haggai', 'Sacharia', 'Maleachi', 'Psalmi', 'Iob', 'Proverbia', 'Ruth', 'Canticum', 'Ecclesiastes', 'Threni', 'Esther', 'Daniel', 'Esra', 'Nehemia', 'Chronica_I', 'Chronica_II']\n"
     ]
    }
   ],
   "source": [
    "REPO = os.path.expanduser('~/github/etcbc/bhsa')\n",
    "baseDir = '{}/tf'.format(REPO)\n",
    "tempDir = '{}/_temp'.format(REPO)\n",
    "VERSION = '2017'\n",
    "\n",
    "TF = Fabric(locations='{}/tf/{}'.format(REPO, VERSION), modules=[''])\n",
    "api = TF.load('book')\n",
    "api.makeAvailableIn(globals())\n"
   ]
  },
  {
   "cell_type": "code",
   "execution_count": 17,
   "metadata": {},
   "outputs": [
    {
     "name": "stdout",
     "output_type": "stream",
     "text": [
      "Amos\n",
      "Canticum\n",
      "Chronica_I\n",
      "Chronica_II\n",
      "Daniel\n",
      "Deuteronomium\n",
      "Ecclesiastes\n",
      "Esra\n",
      "Esther\n",
      "Exodus\n",
      "Ezechiel\n",
      "Genesis\n",
      "Habakuk\n",
      "Haggai\n",
      "Hosea\n",
      "Iob\n",
      "Jeremia\n",
      "Jesaia\n",
      "Joel\n",
      "Jona\n",
      "Josua\n",
      "Judices\n",
      "Leviticus\n",
      "Maleachi\n",
      "Micha\n",
      "Nahum\n",
      "Nehemia\n",
      "Numeri\n",
      "Obadia\n",
      "Proverbia\n",
      "Psalmi\n",
      "Reges_I\n",
      "Reges_II\n",
      "Ruth\n",
      "Sacharia\n",
      "Samuel_I\n",
      "Samuel_II\n",
      "Threni\n",
      "Zephania\n"
     ]
    }
   ],
   "source": [
    "bhsBooks = sorted(F.book.v(n) for n in F.otype.s('book'))\n",
    "print('\\n'.join(bhsBooks))"
   ]
  },
  {
   "cell_type": "markdown",
   "metadata": {},
   "source": [
    "# Reading open scriptures"
   ]
  },
  {
   "cell_type": "code",
   "execution_count": 18,
   "metadata": {},
   "outputs": [],
   "source": [
    "OS_BASE = os.path.expanduser('~/github/openscriptures/morphhb/wlc')\n",
    "os.chdir(OS_BASE)\n",
    "osBookSet = set(fn[0:-4] for fn in glob('*.xml') if fn != 'VerseMap.xml')"
   ]
  },
  {
   "cell_type": "code",
   "execution_count": 19,
   "metadata": {},
   "outputs": [
    {
     "name": "stdout",
     "output_type": "stream",
     "text": [
      "1Chr\n",
      "1Kgs\n",
      "1Sam\n",
      "2Chr\n",
      "2Kgs\n",
      "2Sam\n",
      "Amos\n",
      "Dan\n",
      "Deut\n",
      "Eccl\n",
      "Esth\n",
      "Exod\n",
      "Ezek\n",
      "Ezra\n",
      "Gen\n",
      "Hab\n",
      "Hag\n",
      "Hos\n",
      "Isa\n",
      "Jer\n",
      "Job\n",
      "Joel\n",
      "Jonah\n",
      "Josh\n",
      "Judg\n",
      "Lam\n",
      "Lev\n",
      "Mal\n",
      "Mic\n",
      "Nah\n",
      "Neh\n",
      "Num\n",
      "Obad\n",
      "Prov\n",
      "Ps\n",
      "Ruth\n",
      "Song\n",
      "Zech\n",
      "Zeph\n"
     ]
    }
   ],
   "source": [
    "print('\\n'.join(sorted(osBookSet)))"
   ]
  },
  {
   "cell_type": "code",
   "execution_count": 21,
   "metadata": {},
   "outputs": [],
   "source": [
    "osBooks = '''\n",
    "Amos\n",
    "Song\n",
    "1Chr\n",
    "2Chr\n",
    "Dan\n",
    "Deut\n",
    "Eccl\n",
    "Esth\n",
    "Exod\n",
    "Ezek\n",
    "Ezra\n",
    "Gen\n",
    "Hab\n",
    "Hag\n",
    "Hos\n",
    "Job\n",
    "Isa\n",
    "Jer\n",
    "Joel\n",
    "Jonah\n",
    "Josh\n",
    "Judg\n",
    "Lev\n",
    "Mal\n",
    "Mic\n",
    "Nah\n",
    "Neh\n",
    "Num\n",
    "Obad\n",
    "Prov\n",
    "Ps\n",
    "1Kgs\n",
    "2Kgs\n",
    "Ruth\n",
    "Zech\n",
    "1Sam\n",
    "2Sam\n",
    "Lam\n",
    "Zeph\n",
    "'''.strip().split()"
   ]
  },
  {
   "cell_type": "code",
   "execution_count": 22,
   "metadata": {},
   "outputs": [],
   "source": [
    "osBookFromBhs = {}\n",
    "bhsBookFromOs = {}\n",
    "for (i, bhsBook) in enumerate(bhsBooks):\n",
    "    osBook = osBooks[i]\n",
    "    osBookFromBhs[bhsBook] = osBook\n",
    "    bhsBookFromOs[osBook] = bhsBook"
   ]
  },
  {
   "cell_type": "code",
   "execution_count": 26,
   "metadata": {},
   "outputs": [],
   "source": [
    "def readOsBook(osBook):\n",
    "    infile = '{}.xml'.format(osBook)\n",
    "    parser = etree.XMLParser(remove_blank_text=True, ns_clean=True)\n",
    "    root = etree.parse(infile, parser).getroot()\n",
    "    osisTextNode = root[0]\n",
    "    divNode = osisTextNode[1]\n",
    "    chapterNodes = list(divNode)\n",
    "    print('reading {:<5} ({:<15}) {:>3} chapters'.format(osBook, bhsBookFromOs[osBook], len(chapterNodes)))        "
   ]
  },
  {
   "cell_type": "code",
   "execution_count": 27,
   "metadata": {},
   "outputs": [
    {
     "name": "stdout",
     "output_type": "stream",
     "text": [
      "reading Amos  (Amos           )   9 chapters\n",
      "reading Song  (Canticum       )   8 chapters\n",
      "reading 1Chr  (Chronica_I     )  29 chapters\n",
      "reading 2Chr  (Chronica_II    )  36 chapters\n",
      "reading Dan   (Daniel         )  12 chapters\n",
      "reading Deut  (Deuteronomium  )  34 chapters\n",
      "reading Eccl  (Ecclesiastes   )  12 chapters\n",
      "reading Esth  (Esra           )  10 chapters\n",
      "reading Exod  (Esther         )  40 chapters\n",
      "reading Ezek  (Exodus         )  48 chapters\n",
      "reading Ezra  (Ezechiel       )  10 chapters\n",
      "reading Gen   (Genesis        )  50 chapters\n",
      "reading Hab   (Habakuk        )   3 chapters\n",
      "reading Hag   (Haggai         )   2 chapters\n",
      "reading Hos   (Hosea          )  14 chapters\n",
      "reading Job   (Iob            )  42 chapters\n",
      "reading Isa   (Jeremia        )  66 chapters\n",
      "reading Jer   (Jesaia         )  52 chapters\n",
      "reading Joel  (Joel           )   4 chapters\n",
      "reading Jonah (Jona           )   4 chapters\n",
      "reading Josh  (Josua          )  24 chapters\n",
      "reading Judg  (Judices        )  21 chapters\n",
      "reading Lev   (Leviticus      )  27 chapters\n",
      "reading Mal   (Maleachi       )   3 chapters\n",
      "reading Mic   (Micha          )   7 chapters\n",
      "reading Nah   (Nahum          )   3 chapters\n",
      "reading Neh   (Nehemia        )  13 chapters\n",
      "reading Num   (Numeri         )  36 chapters\n",
      "reading Obad  (Obadia         )   1 chapters\n",
      "reading Prov  (Proverbia      )  31 chapters\n",
      "reading Ps    (Psalmi         ) 150 chapters\n",
      "reading 1Kgs  (Reges_I        )  22 chapters\n",
      "reading 2Kgs  (Reges_II       )  25 chapters\n",
      "reading Ruth  (Ruth           )   4 chapters\n",
      "reading Zech  (Sacharia       )  14 chapters\n",
      "reading 1Sam  (Samuel_I       )  31 chapters\n",
      "reading 2Sam  (Samuel_II      )  24 chapters\n",
      "reading Lam   (Threni         )   5 chapters\n",
      "reading Zeph  (Zephania       )   3 chapters\n"
     ]
    }
   ],
   "source": [
    "for osBook in osBooks:\n",
    "    readOsBook(osBook)"
   ]
  },
  {
   "cell_type": "code",
   "execution_count": null,
   "metadata": {},
   "outputs": [],
   "source": []
  }
 ],
 "metadata": {
  "kernelspec": {
   "display_name": "Python 3",
   "language": "python",
   "name": "python3"
  },
  "language_info": {
   "codemirror_mode": {
    "name": "ipython",
    "version": 3
   },
   "file_extension": ".py",
   "mimetype": "text/x-python",
   "name": "python",
   "nbconvert_exporter": "python",
   "pygments_lexer": "ipython3",
   "version": "3.6.2"
  }
 },
 "nbformat": 4,
 "nbformat_minor": 2
}
