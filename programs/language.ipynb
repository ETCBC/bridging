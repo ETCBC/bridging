{
 "cells": [
  {
   "cell_type": "markdown",
   "metadata": {},
   "source": [
    "# BHSA and OSM: comparison on language\n",
    "\n",
    "We will investigate how the morphology marked up in the OSM corresponds and differs from the BHSA linguistic features.\n",
    "\n",
    "In this notebook we investigate the markup of *language* (Hebrew or Aramaic).\n",
    "\n",
    "We use the `osm` and `osm_sf` features compiled by the \n",
    "[BHSAbridgeOSM notebook](BHSAbridgeOSM.ipynb)."
   ]
  },
  {
   "cell_type": "code",
   "execution_count": 1,
   "metadata": {},
   "outputs": [],
   "source": [
    "import os\n",
    "import collections\n",
    "\n",
    "from tf.fabric import Fabric\n",
    "from utils import show"
   ]
  },
  {
   "cell_type": "markdown",
   "metadata": {},
   "source": [
    "# Load data\n",
    "We load the BHSA data in the standard way, and we add the OSM data as a module of the features `osm` and `osm_sf`.\n",
    "Note that we only need to point TF to the right directories, and then we can load all features\n",
    "that are present in those directories."
   ]
  },
  {
   "cell_type": "code",
   "execution_count": 2,
   "metadata": {},
   "outputs": [
    {
     "name": "stdout",
     "output_type": "stream",
     "text": [
      "This is Text-Fabric 3.1.1\n",
      "Api reference : https://github.com/Dans-labs/text-fabric/wiki/Api\n",
      "Tutorial      : https://github.com/Dans-labs/text-fabric/blob/master/docs/tutorial.ipynb\n",
      "Example data  : https://github.com/Dans-labs/text-fabric-data\n",
      "\n",
      "116 features found and 0 ignored\n",
      "  0.00s loading features ...\n",
      "   |     0.21s B g_word_utf8          from /Users/dirk/github/etcbc/BHSA/tf/2017\n",
      "   |     0.12s B language             from /Users/dirk/github/etcbc/BHSA/tf/2017\n",
      "   |     0.13s B osm                  from /Users/dirk/github/etcbc/bridging/tf/2017\n",
      "   |     0.02s B osm_sf               from /Users/dirk/github/etcbc/bridging/tf/2017\n",
      "   |     0.00s Feature overview: 110 for nodes; 5 for edges; 1 configs; 7 computed\n",
      "  4.85s All features loaded/computed - for details use loadLog()\n"
     ]
    }
   ],
   "source": [
    "BHSA = 'BHSA/tf/2017'\n",
    "OSM = 'bridging/tf/2017'\n",
    "\n",
    "TF = Fabric(locations='~/github/etcbc', modules=[BHSA, OSM])\n",
    "api = TF.load('''\n",
    "    language\n",
    "    osm osm_sf\n",
    "    g_word_utf8\n",
    "''')\n",
    "api.makeAvailableIn(globals())"
   ]
  },
  {
   "cell_type": "markdown",
   "metadata": {},
   "source": [
    "# Language\n",
    "\n",
    "Do BHSA and OSM agree on language?\n",
    "Let's count the words in the BHSA where they disagree.\n",
    "\n",
    "The BHSA names the languages by means of ISO codes, the OSM uses one letter abbreviations.\n",
    "\n",
    "The OSM has the language code as the first letter of the morphology string."
   ]
  },
  {
   "cell_type": "code",
   "execution_count": 3,
   "metadata": {},
   "outputs": [],
   "source": [
    "langBhsFromOsm = dict(A='arc', H='hbo')\n",
    "langOsmFromBhs = dict((y,x) for (x,y) in langBhsFromOsm.items())"
   ]
  },
  {
   "cell_type": "markdown",
   "metadata": {},
   "source": [
    "We exclude the words for which the OSM has no morphology, or where the alignment between BHSA and OSM is problematic."
   ]
  },
  {
   "cell_type": "code",
   "execution_count": 4,
   "metadata": {},
   "outputs": [
    {
     "name": "stdout",
     "output_type": "stream",
     "text": [
      "No other languages encountered than A, H\n",
      "Language discrepancies: 9\n"
     ]
    }
   ],
   "source": [
    "xLanguage = set()\n",
    "strangeLanguage = collections.Counter()\n",
    "\n",
    "for w in F.otype.s('word'):\n",
    "    osm = F.osm.v(w)\n",
    "    if osm == None or osm == '' or osm == '*': continue\n",
    "    osmLanguage = osm[0]\n",
    "    trans = langBhsFromOsm.get(osmLanguage, None)\n",
    "    if trans == None:\n",
    "        strangeLanguage[osmLanguage] += 1\n",
    "    else:\n",
    "        if langBhsFromOsm[osm[0]] != F.language.v(w):\n",
    "            xLanguage.add(w)\n",
    "\n",
    "if strangeLanguage:\n",
    "    print('Strange languages')\n",
    "    for (ln, amount) in sorted(strangeLanguage.items()):\n",
    "        print('Strange language {}: {:>5}x'.format(ln, amount))\n",
    "else:\n",
    "    print('No other languages encountered than {}'.format(', '.join(langBhsFromOsm)))\n",
    "print('Language discrepancies: {}'.format(len(xLanguage)))"
   ]
  },
  {
   "cell_type": "code",
   "execution_count": 6,
   "metadata": {},
   "outputs": [
    {
     "name": "stdout",
     "output_type": "stream",
     "text": [
      "Daniel 2:5 w370626 \"הֵ֣ן\"\n",
      "\tBHS: arc\n",
      "\tOSM: H\n",
      "Daniel 2:9 w370692 \"הֵן\"\n",
      "\tBHS: arc\n",
      "\tOSM: H\n",
      "Daniel 2:13 w370806 \"דָּנִיֵּ֥אל\"\n",
      "\tBHS: arc\n",
      "\tOSM: H\n",
      "Daniel 2:24 w371000 \"דָּֽנִיֵּאל֙\"\n",
      "\tBHS: arc\n",
      "\tOSM: H\n",
      "Daniel 2:28 w371120 \"הֽוּא\"\n",
      "\tBHS: arc\n",
      "\tOSM: H\n",
      "Daniel 2:29 w371130 \"אַחֲרֵ֣י\"\n",
      "\tBHS: arc\n",
      "\tOSM: H\n",
      "Daniel 3:15 w371915 \"הֵ֧ן\"\n",
      "\tBHS: arc\n",
      "\tOSM: H\n",
      "Daniel 4:5 w372449 \"דָּנִיֵּ֜אל\"\n",
      "\tBHS: arc\n",
      "\tOSM: H\n",
      "Daniel 7:1 w374551 \"דָּנִיֵּאל֙\"\n",
      "\tBHS: arc\n",
      "\tOSM: H\n"
     ]
    }
   ],
   "source": [
    "for w in sorted(xLanguage):\n",
    "    show(T, F, [w], F.language.v, lambda x: F.osm.v(x)[0]) "
   ]
  },
  {
   "cell_type": "code",
   "execution_count": null,
   "metadata": {},
   "outputs": [],
   "source": []
  }
 ],
 "metadata": {
  "kernelspec": {
   "display_name": "Python 3",
   "language": "python",
   "name": "python3"
  },
  "language_info": {
   "codemirror_mode": {
    "name": "ipython",
    "version": 3
   },
   "file_extension": ".py",
   "mimetype": "text/x-python",
   "name": "python",
   "nbconvert_exporter": "python",
   "pygments_lexer": "ipython3",
   "version": "3.6.2"
  }
 },
 "nbformat": 4,
 "nbformat_minor": 2
}
