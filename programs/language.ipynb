{
 "cells": [
  {
   "cell_type": "markdown",
   "metadata": {},
   "source": [
    "# BHSA and OSM: comparison on language\n",
    "\n",
    "We will investigate how the morphology marked up in the OSM corresponds and differs from the BHSA linguistic features.\n",
    "\n",
    "In this notebook we investigate the markup of *language* (Hebrew or Aramaic).\n",
    "\n",
    "We use the `osm` and `osm_sf` features compiled by the\n",
    "[BHSAbridgeOSM notebook](BHSAbridgeOSM.ipynb)."
   ]
  },
  {
   "cell_type": "code",
   "execution_count": 1,
   "metadata": {},
   "outputs": [],
   "source": [
    "import collections\n",
    "\n",
    "from tf.fabric import Fabric\n",
    "from utils import show"
   ]
  },
  {
   "cell_type": "markdown",
   "metadata": {},
   "source": [
    "# Load data\n",
    "We load the BHSA data in the standard way, and we add the OSM data as a module of the features `osm` and `osm_sf`.\n",
    "Note that we only need to point TF to the right directories, and then we can load all features\n",
    "that are present in those directories."
   ]
  },
  {
   "cell_type": "code",
   "execution_count": 2,
   "metadata": {},
   "outputs": [
    {
     "name": "stdout",
     "output_type": "stream",
     "text": [
      "This is Text-Fabric 9.0.3\n",
      "Api reference : https://annotation.github.io/text-fabric/tf/cheatsheet.html\n",
      "\n",
      "117 features found and 0 ignored\n",
      "  0.00s loading features ...\n",
      "   |     0.00s Dataset without structure sections in otext:no structure functions in the T-API\n",
      "  3.50s All features loaded/computed - for details use TF.isLoaded()\n"
     ]
    },
    {
     "data": {
      "text/plain": [
       "[('Computed',\n",
       "  'computed-data',\n",
       "  ('C Computed', 'Call AllComputeds', 'Cs ComputedString')),\n",
       " ('Features', 'edge-features', ('E Edge', 'Eall AllEdges', 'Es EdgeString')),\n",
       " ('Fabric', 'loading', ('TF',)),\n",
       " ('Locality', 'locality', ('L Locality',)),\n",
       " ('Nodes', 'navigating-nodes', ('N Nodes',)),\n",
       " ('Features',\n",
       "  'node-features',\n",
       "  ('F Feature', 'Fall AllFeatures', 'Fs FeatureString')),\n",
       " ('Search', 'search', ('S Search',)),\n",
       " ('Text', 'text', ('T Text',))]"
      ]
     },
     "execution_count": 2,
     "metadata": {},
     "output_type": "execute_result"
    }
   ],
   "source": [
    "BHSA = \"BHSA/tf/2021\"\n",
    "OSM = \"bridging/tf/2021\"\n",
    "\n",
    "TF = Fabric(locations=\"~/github/etcbc\", modules=[BHSA, OSM])\n",
    "api = TF.load(\n",
    "    \"\"\"\n",
    "    language\n",
    "    osm osm_sf\n",
    "    g_word_utf8\n",
    "\"\"\"\n",
    ")\n",
    "api.makeAvailableIn(globals())"
   ]
  },
  {
   "cell_type": "markdown",
   "metadata": {},
   "source": [
    "# Language\n",
    "\n",
    "Do BHSA and OSM agree on language?\n",
    "Let's count the words in the BHSA where they disagree.\n",
    "\n",
    "The BHSA names the languages by means of ISO codes, the OSM uses one letter abbreviations.\n",
    "\n",
    "The OSM has the language code as the first letter of the morphology string."
   ]
  },
  {
   "cell_type": "code",
   "execution_count": 5,
   "metadata": {},
   "outputs": [],
   "source": [
    "langBhsFromOsm = dict(A=\"Aramaic\", H=\"Hebrew\")\n",
    "langOsmFromBhs = dict((y, x) for (x, y) in langBhsFromOsm.items())"
   ]
  },
  {
   "cell_type": "markdown",
   "metadata": {},
   "source": [
    "We exclude the words for which the OSM has no morphology, or where the alignment between BHSA and OSM is problematic."
   ]
  },
  {
   "cell_type": "code",
   "execution_count": 6,
   "metadata": {},
   "outputs": [
    {
     "name": "stdout",
     "output_type": "stream",
     "text": [
      "No other languages encountered than A, H\n",
      "Language discrepancies: 2\n"
     ]
    }
   ],
   "source": [
    "xLanguage = set()\n",
    "strangeLanguage = collections.Counter()\n",
    "\n",
    "for w in F.otype.s(\"word\"):\n",
    "    osm = F.osm.v(w)\n",
    "    if osm is None or osm == \"\" or osm == \"*\":\n",
    "        continue\n",
    "    osmLanguage = osm[0]\n",
    "    trans = langBhsFromOsm.get(osmLanguage, None)\n",
    "    if trans is None:\n",
    "        strangeLanguage[osmLanguage] += 1\n",
    "    else:\n",
    "        if langBhsFromOsm[osm[0]] != F.language.v(w):\n",
    "            xLanguage.add(w)\n",
    "\n",
    "if strangeLanguage:\n",
    "    print(\"Strange languages\")\n",
    "    for (ln, amount) in sorted(strangeLanguage.items()):\n",
    "        print(\"Strange language {}: {:>5}x\".format(ln, amount))\n",
    "else:\n",
    "    print(\"No other languages encountered than {}\".format(\", \".join(langBhsFromOsm)))\n",
    "print(\"Language discrepancies: {}\".format(len(xLanguage)))"
   ]
  },
  {
   "cell_type": "code",
   "execution_count": 7,
   "metadata": {},
   "outputs": [
    {
     "name": "stdout",
     "output_type": "stream",
     "text": [
      "Psalms 116:12 w330987\"כָּֽל\"\n",
      "\tBHS: Aramaic\n",
      "\tOSM: H\n",
      "Psalms 116:12 w330988\"תַּגְמוּלֹ֥והִי\"\n",
      "\tBHS: Aramaic\n",
      "\tOSM: H\n"
     ]
    }
   ],
   "source": [
    "for w in sorted(xLanguage):\n",
    "    show(T, F, [w], F.language.v, lambda x: F.osm.v(x)[0])"
   ]
  }
 ],
 "metadata": {
  "kernelspec": {
   "display_name": "Python 3 (ipykernel)",
   "language": "python",
   "name": "python3"
  },
  "language_info": {
   "codemirror_mode": {
    "name": "ipython",
    "version": 3
   },
   "file_extension": ".py",
   "mimetype": "text/x-python",
   "name": "python",
   "nbconvert_exporter": "python",
   "pygments_lexer": "ipython3",
   "version": "3.9.5"
  },
  "widgets": {
   "application/vnd.jupyter.widget-state+json": {
    "state": {},
    "version_major": 2,
    "version_minor": 0
   }
  }
 },
 "nbformat": 4,
 "nbformat_minor": 4
}
