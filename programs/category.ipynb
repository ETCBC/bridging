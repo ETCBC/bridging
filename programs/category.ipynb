{
 "cells": [
  {
   "cell_type": "markdown",
   "metadata": {},
   "source": [
    "# BHSA and OSM: comparison on word categories\n",
    "\n",
    "We will investigate how the morphology marked up in the OSM corresponds and differs from the BHSA linguistic features.\n",
    "\n",
    "In this notebook we investigate the word categories.\n",
    "The [OSM docs](http://openscriptures.github.io/morphhb/parsing/HebrewMorphologyCodes.html)\n",
    "specify a main category for part-of-speech, and additional subtypes for noun, pronoun, adjective, preposition and suffix.\n",
    "\n",
    "The BHSA specifies its categories in the features\n",
    "[sp](https://etcbc.github.io/bhsa/features/hebrew/2017/sp.html),\n",
    "[ls](https://etcbc.github.io/bhsa/features/hebrew/2017/ls.html), and\n",
    "[nametype](https://etcbc.github.io/bhsa/features/hebrew/2017/nametype.html).\n",
    "\n",
    "The purpose of this notebook is to see how they correlate."
   ]
  },
  {
   "cell_type": "markdown",
   "metadata": {},
   "source": [
    "# Mappings\n",
    "\n",
    "We collect the numbers of cooccurrences of OSM types and BHSA types.\n",
    "We do this separately for main words and for suffixes.\n",
    "\n",
    "We give examples where the rare cases occur.\n",
    "A rare case is less than 10% of the total number of cases.\n",
    "\n",
    "That means, if OSM type $t$ compares to BHS types $s_1, ... ,s_n$, with frequencies\n",
    "$f_1, ..., f_n$, then we give cases of those $(t, s_i)$ such that\n",
    "\n",
    "$$f_i <= 0.10\\times \\sum_{j=1}^{n}f_j$$."
   ]
  },
  {
   "cell_type": "markdown",
   "metadata": {},
   "source": [
    "# Results\n",
    "* [categories.tsv](categories.tsv) overview of cooccurrences of OSM and BHSA categories\n",
    "* [categoriesCases.tsv](categoriesCases.tsv) same, but examples for the rarer combinations\n",
    "* [allCategoriesCases.tsv](allCategoriesCases.tsv) all rarer cases, in biblical order"
   ]
  },
  {
   "cell_type": "code",
   "execution_count": 1,
   "metadata": {},
   "outputs": [],
   "source": [
    "import operator\n",
    "from functools import reduce\n",
    "\n",
    "from tf.fabric import Fabric\n",
    "from utils import show\n"
   ]
  },
  {
   "cell_type": "markdown",
   "metadata": {},
   "source": [
    "# Load data\n",
    "We load the BHSA data in the standard way, and we add the OSM data as a module of the features `osm` and `osm_sf`.\n",
    "Note that we only need to point TF to the right directories, and then we can load all features\n",
    "that are present in those directories."
   ]
  },
  {
   "cell_type": "code",
   "execution_count": 2,
   "metadata": {},
   "outputs": [
    {
     "name": "stdout",
     "output_type": "stream",
     "text": [
      "This is Text-Fabric 9.0.3\n",
      "Api reference : https://annotation.github.io/text-fabric/tf/cheatsheet.html\n",
      "\n",
      "117 features found and 0 ignored\n",
      "  0.00s loading features ...\n",
      "   |     0.00s Dataset without structure sections in otext:no structure functions in the T-API\n",
      "  3.92s All features loaded/computed - for details use TF.isLoaded()\n"
     ]
    },
    {
     "data": {
      "text/plain": [
       "[('Computed',\n",
       "  'computed-data',\n",
       "  ('C Computed', 'Call AllComputeds', 'Cs ComputedString')),\n",
       " ('Features', 'edge-features', ('E Edge', 'Eall AllEdges', 'Es EdgeString')),\n",
       " ('Fabric', 'loading', ('TF',)),\n",
       " ('Locality', 'locality', ('L Locality',)),\n",
       " ('Nodes', 'navigating-nodes', ('N Nodes',)),\n",
       " ('Features',\n",
       "  'node-features',\n",
       "  ('F Feature', 'Fall AllFeatures', 'Fs FeatureString')),\n",
       " ('Search', 'search', ('S Search',)),\n",
       " ('Text', 'text', ('T Text',))]"
      ]
     },
     "execution_count": 2,
     "metadata": {},
     "output_type": "execute_result"
    }
   ],
   "source": [
    "BHSA = \"BHSA/tf/2021\"\n",
    "OSM = \"bridging/tf/2021\"\n",
    "\n",
    "TF = Fabric(locations=\"~/github/etcbc\", modules=[BHSA, OSM])\n",
    "api = TF.load(\n",
    "    \"\"\"\n",
    "    sp ls nametype\n",
    "    osm osm_sf\n",
    "    g_word_utf8\n",
    "    prs uvf\n",
    "\"\"\"\n",
    ")\n",
    "api.makeAvailableIn(globals())"
   ]
  },
  {
   "cell_type": "markdown",
   "metadata": {},
   "source": [
    "Let's quickly oversee the values of the relevant BHSA features."
   ]
  },
  {
   "cell_type": "markdown",
   "metadata": {},
   "source": [
    "We only work on words where the OSM has assigned morphology."
   ]
  },
  {
   "cell_type": "code",
   "execution_count": 3,
   "metadata": {},
   "outputs": [
    {
     "name": "stdout",
     "output_type": "stream",
     "text": [
      "419849\n"
     ]
    }
   ],
   "source": [
    "wordBase = [w for w in F.otype.s(\"word\") if F.osm.v(w) and F.osm.v(w) != \"*\"]\n",
    "print(len(wordBase))"
   ]
  },
  {
   "cell_type": "code",
   "execution_count": 4,
   "metadata": {},
   "outputs": [
    {
     "data": {
      "text/plain": [
       "(('subs', 125583),\n",
       " ('verb', 75451),\n",
       " ('prep', 73298),\n",
       " ('conj', 62737),\n",
       " ('nmpr', 35607),\n",
       " ('art', 30387),\n",
       " ('adjv', 10141),\n",
       " ('nega', 6059),\n",
       " ('prps', 5035),\n",
       " ('advb', 4603),\n",
       " ('prde', 2678),\n",
       " ('intj', 1912),\n",
       " ('inrg', 1303),\n",
       " ('prin', 1026))"
      ]
     },
     "execution_count": 4,
     "metadata": {},
     "output_type": "execute_result"
    }
   ],
   "source": [
    "F.sp.freqList()"
   ]
  },
  {
   "cell_type": "code",
   "execution_count": 5,
   "metadata": {},
   "outputs": [
    {
     "data": {
      "text/plain": [
       "(('none', 385975),\n",
       " ('nmdi', 9427),\n",
       " ('quot', 6525),\n",
       " ('card', 6317),\n",
       " ('padv', 5238),\n",
       " ('vbcp', 3640),\n",
       " ('ppre', 3342),\n",
       " ('gntl', 2055),\n",
       " ('focp', 1181),\n",
       " ('nmcp', 994),\n",
       " ('ques', 751),\n",
       " ('ordn', 740),\n",
       " ('afad', 547),\n",
       " ('cjad', 208),\n",
       " ('mult', 35))"
      ]
     },
     "execution_count": 5,
     "metadata": {},
     "output_type": "execute_result"
    }
   ],
   "source": [
    "F.ls.freqList()"
   ]
  },
  {
   "cell_type": "code",
   "execution_count": 6,
   "metadata": {},
   "outputs": [
    {
     "data": {
      "text/plain": [
       "(('pers', 23188),\n",
       " ('topo', 7212),\n",
       " ('pers,gens,topo', 4527),\n",
       " ('ppde', 2512),\n",
       " ('pers,gens', 329),\n",
       " ('gens', 273),\n",
       " ('mens', 30),\n",
       " ('gens,topo', 29),\n",
       " ('topo,pers', 13),\n",
       " ('pers,god', 4))"
      ]
     },
     "execution_count": 6,
     "metadata": {},
     "output_type": "execute_result"
    }
   ],
   "source": [
    "F.nametype.freqList()"
   ]
  },
  {
   "cell_type": "code",
   "execution_count": 7,
   "metadata": {},
   "outputs": [
    {
     "data": {
      "text/plain": [
       "(('absent', 236028),\n",
       " ('n/a', 145404),\n",
       " ('W', 11905),\n",
       " ('K', 7134),\n",
       " ('J', 6566),\n",
       " ('M', 3938),\n",
       " ('H', 3352),\n",
       " ('HM', 3047),\n",
       " ('KM', 2657),\n",
       " ('NW', 1635),\n",
       " ('HW', 1611),\n",
       " ('NJ', 1321),\n",
       " ('K=', 1308),\n",
       " ('HN', 192),\n",
       " ('H=', 161),\n",
       " ('MW', 117),\n",
       " ('HJ', 77),\n",
       " ('HWN', 51),\n",
       " ('N', 47),\n",
       " ('KN', 19),\n",
       " ('KWN', 10),\n",
       " ('N>', 10))"
      ]
     },
     "execution_count": 7,
     "metadata": {},
     "output_type": "execute_result"
    }
   ],
   "source": [
    "F.prs.freqList()"
   ]
  },
  {
   "cell_type": "code",
   "execution_count": 8,
   "metadata": {},
   "outputs": [
    {
     "data": {
      "text/plain": [
       "(('absent', 423044),\n",
       " ('H', 1068),\n",
       " ('J', 946),\n",
       " ('>', 865),\n",
       " ('N', 650),\n",
       " ('W', 17))"
      ]
     },
     "execution_count": 8,
     "metadata": {},
     "output_type": "execute_result"
    }
   ],
   "source": [
    "F.uvf.freqList()"
   ]
  },
  {
   "cell_type": "markdown",
   "metadata": {},
   "source": [
    "In order to read the results with more ease, we translate the codes to friendly names, found in the docs of\n",
    "OSM and BHSA."
   ]
  },
  {
   "cell_type": "code",
   "execution_count": 9,
   "metadata": {},
   "outputs": [],
   "source": [
    "naValues = {\"NA\", \"N/A\", \"n/a\", \"none\", \"absent\"}\n",
    "NA = \"\"\n",
    "\n",
    "missingValues = {None, \"\"}\n",
    "MISSING = \"\"\n",
    "\n",
    "unknownValues = {\"unknown\"}\n",
    "UNKNOWN = \"?\"\n",
    "\n",
    "PRS = \"p\"\n",
    "\n",
    "noSubTypes = {\"C\", \"D\", \"V\"}"
   ]
  },
  {
   "cell_type": "code",
   "execution_count": 15,
   "metadata": {},
   "outputs": [],
   "source": [
    "pspOSM = {\n",
    "    \"\": dict(\n",
    "        A=\"adjective\",\n",
    "        C=\"conjunction\",\n",
    "        D=\"adverb\",\n",
    "        N=\"noun\",\n",
    "        P=\"pronoun\",\n",
    "        R=\"preposition\",\n",
    "        S=\"suffix\",\n",
    "        T=\"particle\",\n",
    "        V=\"verb\",\n",
    "    ),\n",
    "    \"A\": dict(\n",
    "        a=\"adjective\",\n",
    "        c=\"cardinal number\",\n",
    "        g=\"gentilic\",\n",
    "        o=\"ordinal number\",\n",
    "    ),\n",
    "    \"N\": dict(\n",
    "        c=\"common\",\n",
    "        g=\"gentilic\",\n",
    "        p=\"proper name\",\n",
    "        x=\"unknown\",\n",
    "    ),\n",
    "    \"P\": dict(\n",
    "        d=\"demonstrative\",\n",
    "        f=\"indefinite\",\n",
    "        i=\"interrogative\",\n",
    "        p=\"personal\",\n",
    "        r=\"relative\",\n",
    "    ),\n",
    "    \"R\": dict(\n",
    "        d=\"definite article\",\n",
    "    ),\n",
    "    \"S\": dict(\n",
    "        d=\"directional he\",\n",
    "        h=\"paragogic he\",\n",
    "        n=\"paragogic nun\",\n",
    "        p=\"pronominal\",\n",
    "    ),\n",
    "    \"T\": dict(\n",
    "        a=\"affirmation\",\n",
    "        d=\"definite article\",\n",
    "        e=\"exhortation\",\n",
    "        i=\"interrogative\",\n",
    "        j=\"interjection\",\n",
    "        m=\"demonstrative\",\n",
    "        n=\"negative\",\n",
    "        o=\"direct object marker\",\n",
    "        r=\"relative\",\n",
    "    ),\n",
    "}"
   ]
  },
  {
   "cell_type": "code",
   "execution_count": 16,
   "metadata": {},
   "outputs": [],
   "source": [
    "spBHS = dict(\n",
    "    art=\"article\",\n",
    "    verb=\"verb\",\n",
    "    subs=\"noun\",\n",
    "    nmpr=\"proper noun\",\n",
    "    advb=\"adverb\",\n",
    "    prep=\"preposition\",\n",
    "    conj=\"conjunction\",\n",
    "    prps=\"personal pronoun\",\n",
    "    prde=\"demonstrative pronoun\",\n",
    "    prin=\"interrogative pronoun\",\n",
    "    intj=\"interjection\",\n",
    "    nega=\"negative particle\",\n",
    "    inrg=\"interrogative particle\",\n",
    "    adjv=\"adjective\",\n",
    ")\n",
    "lsBHS = dict(\n",
    "    nmdi=\"distributive noun\",\n",
    "    nmcp=\"copulative noun\",\n",
    "    padv=\"potential adverb\",\n",
    "    afad=\"anaphoric adverb\",\n",
    "    ppre=\"potential preposition\",\n",
    "    cjad=\"conjunctive adverb\",\n",
    "    ordn=\"ordinal\",\n",
    "    vbcp=\"copulative verb\",\n",
    "    mult=\"noun of multitude\",\n",
    "    focp=\"focus particle\",\n",
    "    ques=\"interrogative particle\",\n",
    "    gntl=\"gentilic\",\n",
    "    quot=\"quotation verb\",\n",
    "    card=\"cardinal\",\n",
    "    none=MISSING,\n",
    ")\n",
    "nametypeBHS = dict(\n",
    "    pers=\"person\",\n",
    "    mens=\"measurement unit\",\n",
    "    gens=\"people\",\n",
    "    topo=\"place\",\n",
    "    ppde=\"demonstrative personal pronoun\",\n",
    ")\n",
    "nametypeBHS.update(\n",
    "    {\n",
    "        \"pers,gens,topo\": \"person\",\n",
    "        \"pers,gens\": \"person\",\n",
    "        \"gens,topo\": \"gentilic\",\n",
    "        \"pers,god\": \"person\",\n",
    "        \"topo,pers\": \"person\",\n",
    "    }\n",
    ")"
   ]
  },
  {
   "cell_type": "code",
   "execution_count": 22,
   "metadata": {
    "lines_to_end_of_cell_marker": 2,
    "lines_to_next_cell": 2
   },
   "outputs": [],
   "source": [
    "def getValueBHS(x, feat=None):\n",
    "    return (\n",
    "        NA\n",
    "        if x in naValues\n",
    "        else MISSING\n",
    "        if x in missingValues\n",
    "        else UNKNOWN\n",
    "        if x in unknownValues\n",
    "        else feat[x]\n",
    "        if feat\n",
    "        else x\n",
    "    )\n",
    "\n",
    "\n",
    "def getValueOSM(x):\n",
    "    if not x or len(x) < 2:\n",
    "        return UNKNOWN\n",
    "    tp = x[1]\n",
    "    tpName = pspOSM[\"\"][tp]\n",
    "    subTpName = None if tp in noSubTypes or len(x) < 3 else pspOSM[tp][x[2]]\n",
    "    return \":\".join((x for x in (tpName, subTpName) if x is not None))\n",
    "\n",
    "\n",
    "def getTypeBHS(w):\n",
    "    return \":\".join(\n",
    "        (\n",
    "            getValueBHS(F.sp.v(w), spBHS),\n",
    "            getValueBHS(F.ls.v(w), lsBHS),\n",
    "            getValueBHS(F.nametype.v(w), nametypeBHS),\n",
    "        )\n",
    "    )\n",
    "\n",
    "\n",
    "def getTypeOSM(w):\n",
    "    return getValueOSM(F.osm.v(w))\n",
    "\n",
    "\n",
    "def getSuffixTypeBHS(w):\n",
    "    prs = getValueBHS(F.prs.v(w))\n",
    "    if prs not in {NA, UNKNOWN}:\n",
    "        prs = PRS\n",
    "    return \":\".join((prs, getValueBHS(F.uvf.v(w))))\n",
    "\n",
    "\n",
    "def getSuffixTypeOSM(w):\n",
    "    return getValueOSM(F.osm_sf.v(w))\n",
    "\n",
    "\n",
    "def getWordBHS(w):\n",
    "    return \"T={} S={}\".format(getTypeBHS(w), getSuffixTypeBHS(w))\n",
    "\n",
    "\n",
    "def getWordOSM(w):\n",
    "    return \"T={} [{}] S={} [{}]\".format(\n",
    "        getTypeOSM(w),\n",
    "        F.osm.v(w),\n",
    "        getSuffixTypeOSM(w),\n",
    "        F.osm_sf.v(w),\n",
    "    )"
   ]
  },
  {
   "cell_type": "code",
   "execution_count": 23,
   "metadata": {},
   "outputs": [],
   "source": [
    "def showFeatures(base):\n",
    "    cases = set()\n",
    "    categories = []\n",
    "    categoriesCases = []\n",
    "    mappings = {}\n",
    "\n",
    "    def makeMap(key, getBHS, getOSM):\n",
    "        BHSFromOSM = {}\n",
    "        OSMFromBHS = {}\n",
    "\n",
    "        for w in base:\n",
    "            osm = getOSM(w)\n",
    "            bhs = getBHS(w)\n",
    "            BHSFromOSM.setdefault(osm, {}).setdefault(bhs, set()).add(w)\n",
    "            OSMFromBHS.setdefault(bhs, {}).setdefault(osm, set()).add(w)\n",
    "        mappings.setdefault(key, {})[True] = BHSFromOSM\n",
    "        mappings.setdefault(key, {})[False] = OSMFromBHS\n",
    "\n",
    "    def showMap(key, direction):\n",
    "        dirLabel = \"OSM ===> BHS\" if direction else \"BHS ===> OSM\"\n",
    "        categories.append(\n",
    "            \"\"\"\n",
    "---------------------------------------------------------------------------------\n",
    "--- {} {}\n",
    "---------------------------------------------------------------------------------\n",
    "\"\"\".format(\n",
    "                key, dirLabel\n",
    "            )\n",
    "        )\n",
    "        categoriesCases.append(categories[-1])\n",
    "        cases = set()\n",
    "        for (item, itemData) in sorted(mappings[key][direction].items()):\n",
    "            categories.append(\"{:<40}\".format(item))\n",
    "            categoriesCases.append(categories[-1])\n",
    "\n",
    "            totalCases = reduce(operator.add, (len(d) for d in itemData.values()), 0)\n",
    "            for (itemOther, ws) in sorted(\n",
    "                itemData.items(), key=lambda x: (-len(x[1]), x[0])\n",
    "            ):\n",
    "                nws = len(ws)\n",
    "                perc = int(round(100 * nws / totalCases))\n",
    "                categories.append(\n",
    "                    \"\\t{:<40} ({:>3}% = {:>6}x)\".format(itemOther, perc, nws)\n",
    "                )\n",
    "                categoriesCases.append(categories[-1])\n",
    "                if nws < 0.1 * totalCases:\n",
    "                    for w in sorted(ws)[0:10]:\n",
    "                        categoriesCases.append(\n",
    "                            show(\n",
    "                                T,\n",
    "                                F,\n",
    "                                [w],\n",
    "                                getWordBHS,\n",
    "                                getWordOSM,\n",
    "                                indent=\"\\t\\t\\t\\t\",\n",
    "                                asString=True,\n",
    "                            )\n",
    "                        )\n",
    "                        cases.add(w)\n",
    "                    if nws > 10:\n",
    "                        categoriesCases.append(\"\\t\\t\\t\\tand {} more\".format(nws - 10))\n",
    "        categories.append(\"\\n{} ({}): {} cases\".format(key, dirLabel, len(cases)))\n",
    "        categoriesCases.append(categories[-1])\n",
    "\n",
    "        return cases\n",
    "\n",
    "    def showFeature(key):\n",
    "        cases = set()\n",
    "        categories.append(\n",
    "            \"\"\"\n",
    "o-o-o-o-o-o-o-o-o-o-o-o-o-o-o-o-o-o-o-o-o-o-o-o-o-o-o-o-o-o-o-o-o-o-o-o-o-o-o-o-o\n",
    "o-o COMPARING FEATURE {}\n",
    "o-o-o-o-o-o-o-o-o-o-o-o-o-o-o-o-o-o-o-o-o-o-o-o-o-o-o-o-o-o-o-o-o-o-o-o-o-o-o-o-o\n",
    "\"\"\".format(\n",
    "                key\n",
    "            )\n",
    "        )\n",
    "        categoriesCases.append(categories[-1])\n",
    "\n",
    "        for direction in (True, False):\n",
    "            theseCases = showMap(key, direction)\n",
    "            cases |= theseCases\n",
    "        categories.append(\"\\n{}: {} cases\".format(key, len(cases)))\n",
    "        categoriesCases.append(categories[-1])\n",
    "\n",
    "        return cases\n",
    "\n",
    "    for (key, getBHS, getOSM) in (\n",
    "        (\"main\", getTypeBHS, getTypeOSM),\n",
    "        (\"suffix\", getSuffixTypeBHS, getSuffixTypeOSM),\n",
    "    ):\n",
    "        makeMap(key, getBHS, getOSM)\n",
    "        cases |= showFeature(key)\n",
    "\n",
    "    categories.append(\"\\n{}: {} cases\".format(\"All features\", len(cases)))\n",
    "    categoriesCases.append(categories[-1])\n",
    "\n",
    "    with open(\"categories.txt\", \"w\") as fh:\n",
    "        fh.write(\"\\n\".join(categories))\n",
    "    with open(\"categoriesCases.txt\", \"w\") as fh:\n",
    "        fh.write(\"\\n\".join(categoriesCases))\n",
    "\n",
    "    fields = \"\"\"\n",
    "        passage\n",
    "        node\n",
    "        occurrence\n",
    "        OSMmorph\n",
    "        OSMtype\n",
    "        BHStype\n",
    "        OSMmorphSuffix\n",
    "        OSMsuffixType\n",
    "        BHSsuffixType\n",
    "    \"\"\".strip().split()\n",
    "    lineFormat = (\"{}\\t\" * (len(fields) - 1)) + \"{}\\n\"\n",
    "\n",
    "    with open(\"allCategoriesCases.tsv\", \"w\") as fh:\n",
    "        fh.write(lineFormat.format(*fields))\n",
    "        for w in sorted(cases):\n",
    "            fh.write(\n",
    "                lineFormat.format(\n",
    "                    \"{} {}:{}\".format(*T.sectionFromNode(w)),\n",
    "                    w,\n",
    "                    F.g_word_utf8.v(w),\n",
    "                    F.osm.v(w),\n",
    "                    getTypeOSM(w),\n",
    "                    getTypeBHS(w),\n",
    "                    F.osm_sf.v(w),\n",
    "                    getSuffixTypeOSM(w),\n",
    "                    getSuffixTypeBHS(w),\n",
    "                )\n",
    "            )"
   ]
  },
  {
   "cell_type": "markdown",
   "metadata": {},
   "source": [
    "# Feature comparison\n",
    "We are going to compare all features."
   ]
  },
  {
   "cell_type": "code",
   "execution_count": 24,
   "metadata": {},
   "outputs": [],
   "source": [
    "showFeatures(wordBase)"
   ]
  },
  {
   "cell_type": "markdown",
   "metadata": {},
   "source": [
    "# Results\n",
    "* [categories.txt](categories.txt) overview of cooccurrences of OSM and BHSA categories\n",
    "* [categoriesCases.txt](categoriesCases.txt) same, but examples for the rarer combinations\n",
    "* [allCategoriesCases.tsv](allCategoriesCases.tsv) all rarer cases, in biblical order"
   ]
  }
 ],
 "metadata": {
  "kernelspec": {
   "display_name": "Python 3 (ipykernel)",
   "language": "python",
   "name": "python3"
  },
  "language_info": {
   "codemirror_mode": {
    "name": "ipython",
    "version": 3
   },
   "file_extension": ".py",
   "mimetype": "text/x-python",
   "name": "python",
   "nbconvert_exporter": "python",
   "pygments_lexer": "ipython3",
   "version": "3.9.5"
  },
  "widgets": {
   "application/vnd.jupyter.widget-state+json": {
    "state": {},
    "version_major": 2,
    "version_minor": 0
   }
  }
 },
 "nbformat": 4,
 "nbformat_minor": 4
}
