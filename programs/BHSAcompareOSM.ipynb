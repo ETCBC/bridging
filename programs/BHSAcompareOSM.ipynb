{
 "cells": [
  {
   "cell_type": "markdown",
   "metadata": {},
   "source": [
    "# BHSA and OSM: comparison\n",
    "\n",
    "We will investigate how the morphology marked up in the OSM corresponds and differs from the BHSA linguistic features.\n",
    "\n",
    "We use the `osm` and `osm_sf` features compiled by the \n",
    "[BHSAbridgeOSM notebook](BHSAbridgeOSM.ipynb)."
   ]
  },
  {
   "cell_type": "code",
   "execution_count": 1,
   "metadata": {},
   "outputs": [],
   "source": [
    "import os\n",
    "import collections\n",
    "\n",
    "from tf.fabric import Fabric"
   ]
  },
  {
   "cell_type": "code",
   "execution_count": 9,
   "metadata": {},
   "outputs": [
    {
     "name": "stdout",
     "output_type": "stream",
     "text": [
      "This is Text-Fabric 3.1.1\n",
      "Api reference : https://github.com/Dans-labs/text-fabric/wiki/Api\n",
      "Tutorial      : https://github.com/Dans-labs/text-fabric/blob/master/docs/tutorial.ipynb\n",
      "Example data  : https://github.com/Dans-labs/text-fabric-data\n",
      "\n",
      "116 features found and 0 ignored\n",
      "  0.00s loading features ...\n",
      "   |     0.23s B g_word_utf8          from /Users/dirk/github/etcbc/BHSA/tf/2017\n",
      "   |     0.13s B sp                   from /Users/dirk/github/etcbc/BHSA/tf/2017\n",
      "   |     0.14s B language             from /Users/dirk/github/etcbc/BHSA/tf/2017\n",
      "   |     0.13s B osm                  from /Users/dirk/github/etcbc/bridging/tf/2017\n",
      "   |     0.00s Feature overview: 110 for nodes; 5 for edges; 1 configs; 7 computed\n",
      "  5.19s All features loaded/computed - for details use loadLog()\n"
     ]
    }
   ],
   "source": [
    "BHSA = 'BHSA/tf/2017'\n",
    "OSM = 'bridging/tf/2017'\n",
    "\n",
    "TF = Fabric(locations='~/github/etcbc', modules=[BHSA, OSM])\n",
    "api = TF.load('''\n",
    "    sp\n",
    "    language\n",
    "    osm\n",
    "    g_word_utf8\n",
    "''')\n",
    "api.makeAvailableIn(globals())"
   ]
  },
  {
   "cell_type": "markdown",
   "metadata": {},
   "source": [
    "We need to show cases."
   ]
  },
  {
   "cell_type": "code",
   "execution_count": 10,
   "metadata": {},
   "outputs": [],
   "source": [
    "def show(ws):\n",
    "    print('{} BHS {:<30} = {}'.format(\n",
    "        '{} {}:{}'.format(*T.sectionFromNode(ws[0])),\n",
    "        ', '.join(str(w) for w in ws),\n",
    "        '/'.join(F.g_word_utf8.v(w) for w in ws),\n",
    "    ))"
   ]
  },
  {
   "cell_type": "markdown",
   "metadata": {},
   "source": [
    "# Language\n",
    "\n",
    "Do BHSA and OSM agree on language?\n",
    "Let's count the words in the BHSA where they disagree.\n",
    "\n",
    "The BHSA names the languages by means of ISO codes, the OSM uses one letter abbreviations."
   ]
  },
  {
   "cell_type": "code",
   "execution_count": 11,
   "metadata": {},
   "outputs": [],
   "source": [
    "langBhsFromOsm = dict(A='arc', H='hbo')\n",
    "langOsmFromBhs = dict((y,x) for (x,y) in langBhsFromOsm.items())"
   ]
  },
  {
   "cell_type": "markdown",
   "metadata": {},
   "source": [
    "We exclude the words for which the OSM has no morphology, or where the alignment between BHSA and OSM is problematic."
   ]
  },
  {
   "cell_type": "code",
   "execution_count": 12,
   "metadata": {},
   "outputs": [
    {
     "name": "stdout",
     "output_type": "stream",
     "text": [
      "Strange languages\n",
      "Language discrepancies: 9\n"
     ]
    }
   ],
   "source": [
    "xLanguage = set()\n",
    "strangeLanguage = collections.Counter()\n",
    "\n",
    "for w in F.otype.s('word'):\n",
    "    osm = F.osm.v(w)\n",
    "    if osm == None or osm == '' or osm == '*': continue\n",
    "    osmLanguage = osm[0]\n",
    "    trans = langBhsFromOsm.get(osmLanguage, None)\n",
    "    if trans == None:\n",
    "        strangeLanguage[osmLanguage] += 1\n",
    "    else:\n",
    "        if langBhsFromOsm[osm[0]] != F.language.v(w):\n",
    "            xLanguage.add(w)\n",
    "\n",
    "print('Strange languages')\n",
    "for (ln, amount) in sorted(strangeLanguage.items()):\n",
    "    print('Strange language {}: {:>5}x'.format(ln, amount))\n",
    "print('Language discrepancies: {}'.format(len(xLanguage)))"
   ]
  },
  {
   "cell_type": "code",
   "execution_count": 13,
   "metadata": {},
   "outputs": [
    {
     "name": "stdout",
     "output_type": "stream",
     "text": [
      "Daniel 2:5 BHS 370626                         = הֵ֣ן\n",
      "Daniel 2:9 BHS 370692                         = הֵן\n",
      "Daniel 2:13 BHS 370806                         = דָּנִיֵּ֥אל\n",
      "Daniel 2:24 BHS 371000                         = דָּֽנִיֵּאל֙\n",
      "Daniel 2:28 BHS 371120                         = הֽוּא\n",
      "Daniel 2:29 BHS 371130                         = אַחֲרֵ֣י\n",
      "Daniel 3:15 BHS 371915                         = הֵ֧ן\n",
      "Daniel 4:5 BHS 372449                         = דָּנִיֵּ֜אל\n",
      "Daniel 7:1 BHS 374551                         = דָּנִיֵּאל֙\n"
     ]
    }
   ],
   "source": [
    "for w in sorted(xLanguage):\n",
    "    show([w])\n",
    "    "
   ]
  },
  {
   "cell_type": "code",
   "execution_count": null,
   "metadata": {},
   "outputs": [],
   "source": []
  }
 ],
 "metadata": {
  "kernelspec": {
   "display_name": "Python 3",
   "language": "python",
   "name": "python3"
  },
  "language_info": {
   "codemirror_mode": {
    "name": "ipython",
    "version": 3
   },
   "file_extension": ".py",
   "mimetype": "text/x-python",
   "name": "python",
   "nbconvert_exporter": "python",
   "pygments_lexer": "ipython3",
   "version": "3.6.2"
  }
 },
 "nbformat": 4,
 "nbformat_minor": 2
}
